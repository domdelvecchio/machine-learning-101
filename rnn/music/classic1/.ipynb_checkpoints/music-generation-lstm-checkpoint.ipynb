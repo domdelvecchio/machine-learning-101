{
 "cells": [
  {
   "cell_type": "code",
   "execution_count": 1,
   "metadata": {
    "_kg_hide-input": true,
    "_kg_hide-output": true,
    "execution": {
     "iopub.execute_input": "2021-10-11T11:16:18.677034Z",
     "iopub.status.busy": "2021-10-11T11:16:18.676798Z",
     "iopub.status.idle": "2021-10-11T11:17:00.625141Z",
     "shell.execute_reply": "2021-10-11T11:17:00.624313Z",
     "shell.execute_reply.started": "2021-10-11T11:16:18.676965Z"
    }
   },
   "outputs": [
    {
     "name": "stdout",
     "output_type": "stream",
     "text": [
      "Requirement already satisfied: pandas in /usr/local/lib/python3.8/dist-packages (1.4.2)\n",
      "Requirement already satisfied: python-dateutil>=2.8.1 in /usr/local/lib/python3.8/dist-packages (from pandas) (2.8.2)\n",
      "Requirement already satisfied: pytz>=2020.1 in /usr/local/lib/python3.8/dist-packages (from pandas) (2022.1)\n",
      "Requirement already satisfied: numpy>=1.18.5; platform_machine != \"aarch64\" and platform_machine != \"arm64\" and python_version < \"3.10\" in /usr/local/lib/python3.8/dist-packages (from pandas) (1.22.4)\n",
      "Requirement already satisfied: six>=1.5 in /usr/lib/python3/dist-packages (from python-dateutil>=2.8.1->pandas) (1.14.0)\n",
      "\u001b[33mWARNING: You are using pip version 20.2.4; however, version 22.1.2 is available.\n",
      "You should consider upgrading via the '/usr/bin/python3 -m pip install --upgrade pip' command.\u001b[0m\n",
      "Requirement already satisfied: seaborn in /usr/local/lib/python3.8/dist-packages (0.11.2)\n",
      "Requirement already satisfied: matplotlib>=2.2 in /usr/local/lib/python3.8/dist-packages (from seaborn) (3.5.2)\n",
      "Requirement already satisfied: scipy>=1.0 in /usr/local/lib/python3.8/dist-packages (from seaborn) (1.8.1)\n",
      "Requirement already satisfied: numpy>=1.15 in /usr/local/lib/python3.8/dist-packages (from seaborn) (1.22.4)\n",
      "Requirement already satisfied: pandas>=0.23 in /usr/local/lib/python3.8/dist-packages (from seaborn) (1.4.2)\n",
      "Requirement already satisfied: pyparsing>=2.2.1 in /usr/local/lib/python3.8/dist-packages (from matplotlib>=2.2->seaborn) (3.0.9)\n",
      "Requirement already satisfied: cycler>=0.10 in /usr/local/lib/python3.8/dist-packages (from matplotlib>=2.2->seaborn) (0.11.0)\n",
      "Requirement already satisfied: fonttools>=4.22.0 in /usr/local/lib/python3.8/dist-packages (from matplotlib>=2.2->seaborn) (4.33.3)\n",
      "Requirement already satisfied: pillow>=6.2.0 in /usr/local/lib/python3.8/dist-packages (from matplotlib>=2.2->seaborn) (9.1.1)\n",
      "Requirement already satisfied: packaging>=20.0 in /usr/local/lib/python3.8/dist-packages (from matplotlib>=2.2->seaborn) (21.3)\n",
      "Requirement already satisfied: python-dateutil>=2.7 in /usr/local/lib/python3.8/dist-packages (from matplotlib>=2.2->seaborn) (2.8.2)\n",
      "Requirement already satisfied: kiwisolver>=1.0.1 in /usr/local/lib/python3.8/dist-packages (from matplotlib>=2.2->seaborn) (1.4.2)\n",
      "Requirement already satisfied: pytz>=2020.1 in /usr/local/lib/python3.8/dist-packages (from pandas>=0.23->seaborn) (2022.1)\n",
      "Requirement already satisfied: six>=1.5 in /usr/lib/python3/dist-packages (from python-dateutil>=2.7->matplotlib>=2.2->seaborn) (1.14.0)\n",
      "\u001b[33mWARNING: You are using pip version 20.2.4; however, version 22.1.2 is available.\n",
      "You should consider upgrading via the '/usr/bin/python3 -m pip install --upgrade pip' command.\u001b[0m\n",
      "Requirement already satisfied: sklearn in /usr/local/lib/python3.8/dist-packages (0.0)\n",
      "Requirement already satisfied: scikit-learn in /usr/local/lib/python3.8/dist-packages (from sklearn) (1.1.1)\n",
      "Requirement already satisfied: joblib>=1.0.0 in /usr/local/lib/python3.8/dist-packages (from scikit-learn->sklearn) (1.1.0)\n",
      "Requirement already satisfied: threadpoolctl>=2.0.0 in /usr/local/lib/python3.8/dist-packages (from scikit-learn->sklearn) (3.1.0)\n",
      "Requirement already satisfied: scipy>=1.3.2 in /usr/local/lib/python3.8/dist-packages (from scikit-learn->sklearn) (1.8.1)\n",
      "Requirement already satisfied: numpy>=1.17.3 in /usr/local/lib/python3.8/dist-packages (from scikit-learn->sklearn) (1.22.4)\n",
      "\u001b[33mWARNING: You are using pip version 20.2.4; however, version 22.1.2 is available.\n",
      "You should consider upgrading via the '/usr/bin/python3 -m pip install --upgrade pip' command.\u001b[0m\n",
      "Requirement already satisfied: music21 in /usr/local/lib/python3.8/dist-packages (7.3.3)\n",
      "Requirement already satisfied: webcolors>=1.5 in /usr/local/lib/python3.8/dist-packages (from music21) (1.12)\n",
      "Requirement already satisfied: matplotlib in /usr/local/lib/python3.8/dist-packages (from music21) (3.5.2)\n",
      "Requirement already satisfied: more-itertools in /usr/local/lib/python3.8/dist-packages (from music21) (8.13.0)\n",
      "Requirement already satisfied: jsonpickle in /usr/local/lib/python3.8/dist-packages (from music21) (2.2.0)\n",
      "Requirement already satisfied: numpy in /usr/local/lib/python3.8/dist-packages (from music21) (1.22.4)\n",
      "Requirement already satisfied: chardet in /usr/lib/python3/dist-packages (from music21) (3.0.4)\n",
      "Requirement already satisfied: joblib in /usr/local/lib/python3.8/dist-packages (from music21) (1.1.0)\n",
      "Requirement already satisfied: python-dateutil>=2.7 in /usr/local/lib/python3.8/dist-packages (from matplotlib->music21) (2.8.2)\n",
      "Requirement already satisfied: cycler>=0.10 in /usr/local/lib/python3.8/dist-packages (from matplotlib->music21) (0.11.0)\n",
      "Requirement already satisfied: pillow>=6.2.0 in /usr/local/lib/python3.8/dist-packages (from matplotlib->music21) (9.1.1)\n",
      "Requirement already satisfied: fonttools>=4.22.0 in /usr/local/lib/python3.8/dist-packages (from matplotlib->music21) (4.33.3)\n",
      "Requirement already satisfied: pyparsing>=2.2.1 in /usr/local/lib/python3.8/dist-packages (from matplotlib->music21) (3.0.9)\n",
      "Requirement already satisfied: packaging>=20.0 in /usr/local/lib/python3.8/dist-packages (from matplotlib->music21) (21.3)\n",
      "Requirement already satisfied: kiwisolver>=1.0.1 in /usr/local/lib/python3.8/dist-packages (from matplotlib->music21) (1.4.2)\n",
      "Requirement already satisfied: six>=1.5 in /usr/lib/python3/dist-packages (from python-dateutil>=2.7->matplotlib->music21) (1.14.0)\n",
      "\u001b[33mWARNING: You are using pip version 20.2.4; however, version 22.1.2 is available.\n",
      "You should consider upgrading via the '/usr/bin/python3 -m pip install --upgrade pip' command.\u001b[0m\n",
      "Reading package lists... Done\n",
      "Building dependency tree       \n",
      "Reading state information... Done\n",
      "lilypond is already the newest version (2.20.0-1).\n",
      "0 upgraded, 0 newly installed, 0 to remove and 11 not upgraded.\n"
     ]
    }
   ],
   "source": [
    "# This Python 3 environment comes with many helpful analytics libraries installed\n",
    "# It is defined by the kaggle/python Docker image: https://github.com/kaggle/docker-python\n",
    "# For example, here's several helpful packages to load\n",
    "\n",
    "!pip install pandas\n",
    "!pip install seaborn\n",
    "!pip install sklearn\n",
    "\n",
    "import numpy as np # linear algebra\n",
    "import pandas as pd # data processing, CSV file I/O (e.g. pd.read_csv)\n",
    "\n",
    "# Input data files are available in the read-only \"../input/\" directory\n",
    "# For example, running this (by clicking run or pressing Shift+Enter) will list all files under the input directory\n",
    "\n",
    "import os\n",
    "for dirname, _, filenames in os.walk('/data/'):\n",
    "    for filename in filenames:\n",
    "        print(os.path.join(dirname, filename))\n",
    "\n",
    "# You can write up to 20GB to the current directory (/kaggle/working/) that gets preserved as output when you create a version using \"Save & Run All\" \n",
    "# You can also write temporary files to /kaggle/temp/, but they won't be saved outside of the current session\n",
    "\n",
    "#Installing dependencies\n",
    "!pip install music21\n",
    "!apt-get install -y lilypond"
   ]
  },
  {
   "cell_type": "markdown",
   "metadata": {},
   "source": [
    "# <p style=\"background-color:#97BACB;font-family:newtimeroman;color:#EBDDD0;font-size:120%;text-align:center;border-radius:40px 40px;\">LSTM'S ALBUM RELEASE</p>\n",
    "\n",
    "<img src=\"https://github.com/KarnikaKapoor/Files/blob/main/music1.gif?raw=true\">\n",
    "\n",
    "<p style=\"font-family:newtimeroman;font-size:120%;color:#97BACB;\">In one of my previous notebooks, I created an RNN that generates lyrics. For such projects, we feed the network a series of strings and the network predicts the next string in the series based on the information it is trained on. This time I decided to use the same principle on the music. \n",
    "Full disclosure I am not a musician. However, I know a tiny bit of music theory and play the ukulele for fun. Nonetheless, If you are a musical novice, don't shy away dive right into this notebook. </p> \n",
    "\n",
    "<a id='top'></a>\n",
    "<div class=\"list-group\" id=\"list-tab\" role=\"tablist\">\n",
    " <p style=\"font-family:newtimeroman;color:#97BACB#97BACB;font-size:120%;text-align:center;border-radius:40px 40px;\">TABLE OF CONTENTS</p>   \n",
    "    \n",
    "* [1. IMPORTING LIBRARIES](#1)\n",
    "    \n",
    "* [2. LOADING DATA](#2)\n",
    "    \n",
    "* [3. DATA EXPLORATION](#3)  \n",
    "    \n",
    "* [4. DATA PREPREPROCESSING](#4)  \n",
    "    \n",
    "* [5. MODEL BUILDING](#5) \n",
    "      \n",
    "* [6. EVALUATING MODELS](#6)\n",
    "    \n",
    "* [7. CONCLUSION](#7)\n",
    "    \n",
    "* [8. END](#8)\n",
    "\n",
    "\n",
    "<a id=\"1\"></a>\n",
    "# <p style=\"background-color:#97BACB;font-family:newtimeroman;color:#EBDDD0;font-size:120%;text-align:center;border-radius:40px 40px;\">IMPORTING LIBRARIES</p>\n"
   ]
  },
  {
   "cell_type": "code",
   "execution_count": 2,
   "metadata": {
    "_kg_hide-output": true,
    "execution": {
     "iopub.execute_input": "2021-10-11T11:17:00.627369Z",
     "iopub.status.busy": "2021-10-11T11:17:00.627086Z",
     "iopub.status.idle": "2021-10-11T11:17:05.797137Z",
     "shell.execute_reply": "2021-10-11T11:17:05.796307Z",
     "shell.execute_reply.started": "2021-10-11T11:17:00.627333Z"
    }
   },
   "outputs": [],
   "source": [
    "#Importing Libraries\n",
    "import tensorflow \n",
    "import numpy as np \n",
    "import pandas as pd \n",
    "from collections import Counter\n",
    "import random\n",
    "import IPython\n",
    "from IPython.display import Image, Audio\n",
    "import music21\n",
    "from music21 import *\n",
    "import matplotlib.pyplot as plt \n",
    "from sklearn.model_selection import train_test_split\n",
    "from tensorflow.keras.models import Sequential\n",
    "from tensorflow.keras.layers import LSTM, Dense, Dropout\n",
    "import tensorflow.keras.backend as K\n",
    "from tensorflow.keras.optimizers import Adamax\n",
    "import seaborn as sns\n",
    "import matplotlib.pyplot as plt\n",
    "import matplotlib.patches as mpatches\n",
    "%matplotlib inline\n",
    "import sys\n",
    "import warnings\n",
    "warnings.filterwarnings(\"ignore\")\n",
    "warnings.simplefilter(\"ignore\")\n",
    "np.random.seed(42)"
   ]
  },
  {
   "cell_type": "markdown",
   "metadata": {},
   "source": [
    "<a id=\"2\"></a>\n",
    "# <p style=\"background-color:#97BACB;font-family:newtimeroman;color:#EBDDD0;font-size:120%;text-align:center;border-radius:40px 40px;\">LOADING DATA</p>\n",
    "\n",
    "For this project, I will be using MIDI files of classical piano music. The dataset includes various artists. I will be working with Frédéric Chopin's compositions. \n",
    " \n",
    "* First of all, I make a list of all the songs in the Chopin folder parsed as music21 stream.\n",
    "\n",
    "* Then I will be creating a function to extract chords and notes out of the data creating a corpus.\n",
    "\n",
    "**Laoding and parsing data**"
   ]
  },
  {
   "cell_type": "code",
   "execution_count": 3,
   "metadata": {
    "execution": {
     "iopub.execute_input": "2021-10-11T11:17:05.798866Z",
     "iopub.status.busy": "2021-10-11T11:17:05.798486Z",
     "iopub.status.idle": "2021-10-11T11:22:02.230662Z",
     "shell.execute_reply": "2021-10-11T11:22:02.229854Z",
     "shell.execute_reply.started": "2021-10-11T11:17:05.79883Z"
    }
   },
   "outputs": [],
   "source": [
    "#Loading the list of chopin's midi files as stream \n",
    "filepath = \"data/chopin/\"\n",
    "#Getting midi files\n",
    "all_midis= []\n",
    "for i in os.listdir(filepath):\n",
    "    if i.endswith(\".mid\"):\n",
    "        tr = filepath+i\n",
    "        midi = converter.parse(tr)\n",
    "        all_midis.append(midi)"
   ]
  },
  {
   "cell_type": "markdown",
   "metadata": {},
   "source": [
    "Next, I get the components out of these streams of MIDI files. The midi files only have the piano included as mentioned in the dataset. So the components of the file would be either piano chords or piano notes. \n",
    "\n",
    "**Note:** The musical notes are the building blocks of the music. It pertains to a pitch associated with a specific audio vibration. Western music utilizes twelve musical notes. \n",
    "\n",
    "**Chord:** A group of notes that sound good together is a chord.\n",
    "\n",
    "The music21 stream that was created in the above cell contains both, chords and notes, we will extract them in the form of notes and obtain a series of notes in the musical composition.\n",
    "\n",
    "**The function to get the notes:**"
   ]
  },
  {
   "cell_type": "code",
   "execution_count": 4,
   "metadata": {
    "execution": {
     "iopub.execute_input": "2021-10-11T11:22:02.233115Z",
     "iopub.status.busy": "2021-10-11T11:22:02.232844Z",
     "iopub.status.idle": "2021-10-11T11:22:21.07334Z",
     "shell.execute_reply": "2021-10-11T11:22:21.072583Z",
     "shell.execute_reply.started": "2021-10-11T11:22:02.233082Z"
    }
   },
   "outputs": [
    {
     "name": "stdout",
     "output_type": "stream",
     "text": [
      "Total notes in all the Chopin midis in the dataset: 15508\n"
     ]
    }
   ],
   "source": [
    "#Helping function        \n",
    "def extract_notes(file):\n",
    "    notes = []\n",
    "    pick = None\n",
    "    for j in file:\n",
    "        songs = instrument.partitionByInstrument(j)\n",
    "        for part in songs.parts:\n",
    "            pick = part.recurse()\n",
    "            for element in pick:\n",
    "                if isinstance(element, note.Note):\n",
    "                    notes.append(str(element.pitch))\n",
    "                elif isinstance(element, chord.Chord):\n",
    "                    notes.append(\".\".join(str(n) for n in element.normalOrder))\n",
    "\n",
    "    return notes\n",
    "#Getting the list of notes as Corpus\n",
    "Corpus= extract_notes(all_midis)\n",
    "print(\"Total notes in all the Chopin midis in the dataset:\", len(Corpus))"
   ]
  },
  {
   "cell_type": "markdown",
   "metadata": {},
   "source": [
    "So we have our data in the form of a corpus. A list of strings, if you will. Each string indicates a musical note. Let us explore this data corpus.\n",
    "\n",
    "<a id=\"3\"></a>\n",
    "# <p style=\"background-color:#97BACB;font-family:newtimeroman;color:#EBDDD0;font-size:120%;text-align:center;border-radius:40px 40px;\">DATA EXPLORATION</p>\n",
    "\n",
    "**In this section, I will be:**\n",
    "* Exploring the data Corpus\n",
    "* Examine all the notes in the Corpus \n",
    "* Simplifying our Corpus to Built a working model\n",
    "\n",
    "**Let us have a look at the first 50 values in our corpus**"
   ]
  },
  {
   "cell_type": "code",
   "execution_count": 5,
   "metadata": {
    "execution": {
     "iopub.execute_input": "2021-10-11T11:22:21.075113Z",
     "iopub.status.busy": "2021-10-11T11:22:21.074693Z",
     "iopub.status.idle": "2021-10-11T11:22:21.080474Z",
     "shell.execute_reply": "2021-10-11T11:22:21.079728Z",
     "shell.execute_reply.started": "2021-10-11T11:22:21.075078Z"
    }
   },
   "outputs": [
    {
     "name": "stdout",
     "output_type": "stream",
     "text": [
      "First fifty values in the Corpus: ['B-4', 'E-2', '3', '3.7', 'D5', '0.3', '3.7', '10.3', '3.7', '3.8', 'E-2', 'G4', 'E-5', 'F4', '3.7', 'E-4', '3.7', '3.7', '10.3', '3.7', '0.3', 'G1', 'D5', '3', '3.7', 'D5', '0.3', '3.7', '10.3', '3.7', '3.8', 'B-1', 'G4', 'E-5', 'B-4', '7.10', 'E-4', 'G4', '2.5', '8.10', '3', '3.7', 'G4', 'B-4', 'E-2', 'G5', '8', 'F5', '0.3', 'C5']\n"
     ]
    }
   ],
   "source": [
    "print(\"First fifty values in the Corpus:\", Corpus[:50])"
   ]
  },
  {
   "cell_type": "markdown",
   "metadata": {},
   "source": [
    "All these values indicate the notes, as mentioned above.\n",
    "\n",
    "**Printing the music sheet**"
   ]
  },
  {
   "cell_type": "code",
   "execution_count": 6,
   "metadata": {
    "execution": {
     "iopub.execute_input": "2021-10-11T11:22:21.082389Z",
     "iopub.status.busy": "2021-10-11T11:22:21.081966Z",
     "iopub.status.idle": "2021-10-11T11:22:22.600018Z",
     "shell.execute_reply": "2021-10-11T11:22:22.599285Z",
     "shell.execute_reply.started": "2021-10-11T11:22:21.082356Z"
    }
   },
   "outputs": [
    {
     "data": {
      "image/png": "[encoded data removed]",
      "text/plain": [
       "<IPython.core.display.Image object>"
      ]
     },
     "metadata": {},
     "output_type": "display_data"
    }
   ],
   "source": [
    "#First Lets write some functions that we need to look into the data\n",
    "def show(music):\n",
    "    display(Image(str(music.write(\"lily.png\"))))\n",
    "    \n",
    "def chords_n_notes(Snippet):\n",
    "    Melody = []\n",
    "    offset = 0 #Incremental\n",
    "    for i in Snippet:\n",
    "        #If it is chord\n",
    "        if (\".\" in i or i.isdigit()):\n",
    "            chord_notes = i.split(\".\") #Seperating the notes in chord\n",
    "            notes = [] \n",
    "            for j in chord_notes:\n",
    "                inst_note=int(j)\n",
    "                note_snip = note.Note(inst_note)            \n",
    "                notes.append(note_snip)\n",
    "                chord_snip = chord.Chord(notes)\n",
    "                chord_snip.offset = offset\n",
    "                Melody.append(chord_snip)\n",
    "        # pattern is a note\n",
    "        else: \n",
    "            note_snip = note.Note(i)\n",
    "            note_snip.offset = offset\n",
    "            Melody.append(note_snip)\n",
    "        # increase offset each iteration so that notes do not stack\n",
    "        offset += 1\n",
    "    Melody_midi = stream.Stream(Melody)   \n",
    "    return Melody_midi\n",
    "\n",
    "Melody_Snippet = chords_n_notes(Corpus[:100])\n",
    "show(Melody_Snippet)"
   ]
  },
  {
   "cell_type": "markdown",
   "metadata": {},
   "source": [
    "**Playing the above sheet music** \n",
    "\n",
    "*As I could not play a midi file on the Kaggle interface, I have created a \".wav\" filetype of the same outside of this code. I am using it to create an audio interface. Let us have a listen to the data corpus.* "
   ]
  },
  {
   "cell_type": "code",
   "execution_count": 7,
   "metadata": {
    "execution": {
     "iopub.execute_input": "2021-10-11T11:22:22.602386Z",
     "iopub.status.busy": "2021-10-11T11:22:22.601858Z",
     "iopub.status.idle": "2021-10-11T11:22:23.197889Z",
     "shell.execute_reply": "2021-10-11T11:22:23.197043Z",
     "shell.execute_reply.started": "2021-10-11T11:22:22.602347Z"
    }
   },
   "outputs": [
    {
     "name": "stdout",
     "output_type": "stream",
     "text": [
      "Sample Audio From Data\n"
     ]
    }
   ],
   "source": [
    "#to play audio or corpus\n",
    "print(\"Sample Audio From Data\")\n",
    "# IPython.display.Audio(\"../input/music-generated-lstm/Corpus_Snippet.wav\") "
   ]
  },
  {
   "cell_type": "markdown",
   "metadata": {},
   "source": [
    "**Examine all the notes in the Corpus** "
   ]
  },
  {
   "cell_type": "code",
   "execution_count": 8,
   "metadata": {
    "execution": {
     "iopub.execute_input": "2021-10-11T11:22:23.199377Z",
     "iopub.status.busy": "2021-10-11T11:22:23.199046Z",
     "iopub.status.idle": "2021-10-11T11:22:23.225688Z",
     "shell.execute_reply": "2021-10-11T11:22:23.224781Z",
     "shell.execute_reply.started": "2021-10-11T11:22:23.199335Z"
    }
   },
   "outputs": [
    {
     "name": "stdout",
     "output_type": "stream",
     "text": [
      "Total unique notes in the Corpus: 292\n"
     ]
    }
   ],
   "source": [
    "#Creating a count dictionary\n",
    "count_num = Counter(Corpus)\n",
    "print(\"Total unique notes in the Corpus:\", len(count_num))"
   ]
  },
  {
   "cell_type": "code",
   "execution_count": 9,
   "metadata": {
    "execution": {
     "iopub.execute_input": "2021-10-11T11:22:23.227778Z",
     "iopub.status.busy": "2021-10-11T11:22:23.227296Z",
     "iopub.status.idle": "2021-10-11T11:22:23.235741Z",
     "shell.execute_reply": "2021-10-11T11:22:23.235081Z",
     "shell.execute_reply.started": "2021-10-11T11:22:23.227728Z"
    }
   },
   "outputs": [
    {
     "name": "stdout",
     "output_type": "stream",
     "text": [
      "Average recurrenc for a note in Corpus: 53.10958904109589\n",
      "Most frequent note in Corpus appeared: 402 times\n",
      "Least frequent note in Corpus appeared: 1 time\n"
     ]
    }
   ],
   "source": [
    "#Exploring the notes dictionary\n",
    "Notes = list(count_num.keys())\n",
    "Recurrence = list(count_num.values())\n",
    "#Average recurrenc for a note in Corpus\n",
    "def Average(lst):\n",
    "    return sum(lst) / len(lst)\n",
    "print(\"Average recurrenc for a note in Corpus:\", Average(Recurrence))\n",
    "print(\"Most frequent note in Corpus appeared:\", max(Recurrence), \"times\")\n",
    "print(\"Least frequent note in Corpus appeared:\", min(Recurrence), \"time\")"
   ]
  },
  {
   "cell_type": "markdown",
   "metadata": {},
   "source": [
    "Clearly, there are some very rare notes in the melody; some so rare that it was played only once in the whole data. This would create a lot of problems. (I did run into most of them while writing this piece)\n",
    "To spare us the error reports, let us have a look at the frequency of the notes. \n",
    "And for simplicity, I shall be eliminating some of the least occurring notes. I am sure Chopin wouldn't mind me messing with his masterpiece for science or would he? Either way, I may never know!   "
   ]
  },
  {
   "cell_type": "code",
   "execution_count": 10,
   "metadata": {
    "execution": {
     "iopub.execute_input": "2021-10-11T11:22:23.239962Z",
     "iopub.status.busy": "2021-10-11T11:22:23.2393Z",
     "iopub.status.idle": "2021-10-11T11:22:23.648745Z",
     "shell.execute_reply": "2021-10-11T11:22:23.647902Z",
     "shell.execute_reply.started": "2021-10-11T11:22:23.239927Z"
    }
   },
   "outputs": [
    {
     "data": {
      "image/png": "[encoded data removed]",
      "text/plain": [
       "<Figure size 1296x216 with 1 Axes>"
      ]
     },
     "metadata": {
      "image/png": {
       "height": 222,
       "width": 1058
      }
     },
     "output_type": "display_data"
    }
   ],
   "source": [
    "# Plotting the distribution of Notes\n",
    "plt.figure(figsize=(18,3),facecolor=\"#97BACB\")\n",
    "bins = np.arange(0,(max(Recurrence)), 50) \n",
    "plt.hist(Recurrence, bins=bins, color=\"#97BACB\")\n",
    "plt.axvline(x=100,color=\"#DBACC1\")\n",
    "plt.title(\"Frequency Distribution Of Notes In The Corpus\")\n",
    "plt.xlabel(\"Frequency Of Chords in Corpus\")\n",
    "plt.ylabel(\"Number Of Chords\")\n",
    "plt.show()"
   ]
  },
  {
   "cell_type": "markdown",
   "metadata": {},
   "source": [
    "I have decided, I will be taking out the notes that were played less than 100 times. I mean, if Chopin liked them he would have played it a lot more often. So I create a list of rare notes in the next section. "
   ]
  },
  {
   "cell_type": "code",
   "execution_count": 11,
   "metadata": {
    "execution": {
     "iopub.execute_input": "2021-10-11T11:22:23.650629Z",
     "iopub.status.busy": "2021-10-11T11:22:23.650348Z",
     "iopub.status.idle": "2021-10-11T11:22:23.656827Z",
     "shell.execute_reply": "2021-10-11T11:22:23.655939Z",
     "shell.execute_reply.started": "2021-10-11T11:22:23.650595Z"
    }
   },
   "outputs": [
    {
     "name": "stdout",
     "output_type": "stream",
     "text": [
      "Total number of notes that occur less than 100 times: 231\n"
     ]
    }
   ],
   "source": [
    "#Getting a list of rare chords\n",
    "rare_note = []\n",
    "for index, (key, value) in enumerate(count_num.items()):\n",
    "    if value < 100:\n",
    "        m =  key\n",
    "        rare_note.append(m)\n",
    "        \n",
    "print(\"Total number of notes that occur less than 100 times:\", len(rare_note))"
   ]
  },
  {
   "cell_type": "code",
   "execution_count": 12,
   "metadata": {
    "execution": {
     "iopub.execute_input": "2021-10-11T11:22:23.658586Z",
     "iopub.status.busy": "2021-10-11T11:22:23.658297Z",
     "iopub.status.idle": "2021-10-11T11:22:25.737944Z",
     "shell.execute_reply": "2021-10-11T11:22:25.737173Z",
     "shell.execute_reply.started": "2021-10-11T11:22:23.658551Z"
    }
   },
   "outputs": [
    {
     "name": "stdout",
     "output_type": "stream",
     "text": [
      "Length of Corpus after elemination the rare notes: 12089\n"
     ]
    }
   ],
   "source": [
    "#Eleminating the rare notes\n",
    "for element in Corpus:\n",
    "    if element in rare_note:\n",
    "        Corpus.remove(element)\n",
    "\n",
    "print(\"Length of Corpus after elemination the rare notes:\", len(Corpus))"
   ]
  },
  {
   "cell_type": "markdown",
   "metadata": {},
   "source": [
    "Finally! This is the cleaned data Corpus that I will be using for the music generation.  \n",
    "In the next section, I will be preprocessing this Corpus for the training model. \n",
    "\n",
    "The workflow for this project involves,\n",
    "\n",
    "<p style=\"background-color:#EBDDD0;font-family:newtimeroman;color:#444160;text-align:center;font-size:120%;\">Loading Data ➡️ Preprocessing ➡️ Building Mapping Dictionary ➡️ Building Model ➡️ Generating Music</p>\n",
    "\n",
    "As I have loaded and explored the data,  I will proceed further by pre-processing the text.  \n",
    "\n",
    "\n",
    "<a id=\"4\"></a>\n",
    "# <p style=\"background-color:#97BACB;font-family:newtimeroman;color:#EBDDD0;font-size:120%;text-align:center;border-radius:40px 40px;\">DATA PREPROCESSING</p>\n",
    "\n",
    "Notes are basically sound waves. In music, we have certain specific combinations of Frequency and Wavelength standardized as said notes. Our Corpus has the name of that note. As we parsed the data at the time of loading we took the help of the music21 library (by nice people at MIT); The library fetches Frequency, Wavelength, duration etc for the given notes. \n",
    "\n",
    "\n",
    "\n",
    "**In this section, I will be performing the following:**\n",
    "\n",
    "**Creating a dictionary:** Creating a dictionary to map the notes and their indices. We have the note's name as a string the Corpus. For the computer, these names are just a symbol. So we create a dictionary to map each unique note in our Corpus to a number. And vice versa to retrieve the values at the time of prediction. This will be used to encode and decode the information going in and getting out of the RNN. \n",
    "\n",
    "**Encoding and Splitting the corpus:** Encoding and splitting the corpus into smaller sequences of equal length: At this point, the Corpus contain notes. We will encode this corpus and create small sequences of equal lengths of features and the corresponding targets. Each feature and target will contain the mapped index in the dictionary of the unique characters they signify. \n",
    "\n",
    "**Assigning X and y:** The labels are then resized and normalized. Whereas the targets are one-hot encoded. Ready to be sent to the RNN for the training, but before that let us built the RNN model. \n",
    "\n",
    "**Splitting Train and Seed datasets** To create music we will need to send some input to the RNN. For that, we will set aside a part of the data as seeds. We could have trained it all but I am no musician to come up with an input seed value. \n",
    "\n",
    "**Creating a list of sorted unique characters**"
   ]
  },
  {
   "cell_type": "code",
   "execution_count": 13,
   "metadata": {
    "execution": {
     "iopub.execute_input": "2021-10-11T11:22:25.739783Z",
     "iopub.status.busy": "2021-10-11T11:22:25.739349Z",
     "iopub.status.idle": "2021-10-11T11:22:25.749121Z",
     "shell.execute_reply": "2021-10-11T11:22:25.74817Z",
     "shell.execute_reply.started": "2021-10-11T11:22:25.739747Z"
    }
   },
   "outputs": [
    {
     "name": "stdout",
     "output_type": "stream",
     "text": [
      "Total number of characters: 12089\n",
      "Number of unique characters: 254\n"
     ]
    }
   ],
   "source": [
    "# Storing all the unique characters present in my corpus to bult a mapping dic. \n",
    "symb = sorted(list(set(Corpus)))\n",
    "\n",
    "L_corpus = len(Corpus) #length of corpus\n",
    "L_symb = len(symb) #length of total unique characters\n",
    "\n",
    "#Building dictionary to access the vocabulary from indices and vice versa\n",
    "mapping = dict((c, i) for i, c in enumerate(symb))\n",
    "reverse_mapping = dict((i, c) for i, c in enumerate(symb))\n",
    "\n",
    "print(\"Total number of characters:\", L_corpus)\n",
    "print(\"Number of unique characters:\", L_symb)"
   ]
  },
  {
   "cell_type": "markdown",
   "metadata": {},
   "source": [
    "**Encoding and Splitting the Corpus as Labels and Targets**"
   ]
  },
  {
   "cell_type": "code",
   "execution_count": 14,
   "metadata": {
    "execution": {
     "iopub.execute_input": "2021-10-11T11:22:25.751166Z",
     "iopub.status.busy": "2021-10-11T11:22:25.750838Z",
     "iopub.status.idle": "2021-10-11T11:22:26.011177Z",
     "shell.execute_reply": "2021-10-11T11:22:26.010136Z",
     "shell.execute_reply.started": "2021-10-11T11:22:25.751083Z"
    }
   },
   "outputs": [
    {
     "name": "stdout",
     "output_type": "stream",
     "text": [
      "Total number of sequences in the Corpus: 12049\n"
     ]
    }
   ],
   "source": [
    "#Splitting the Corpus in equal length of strings and output target\n",
    "length = 40\n",
    "features = []\n",
    "targets = []\n",
    "for i in range(0, L_corpus - length, 1):\n",
    "    feature = Corpus[i:i + length]\n",
    "    target = Corpus[i + length]\n",
    "    features.append([mapping[j] for j in feature])\n",
    "    targets.append(mapping[target])\n",
    "    \n",
    "    \n",
    "L_datapoints = len(targets)\n",
    "print(\"Total number of sequences in the Corpus:\", L_datapoints)"
   ]
  },
  {
   "cell_type": "code",
   "execution_count": 15,
   "metadata": {
    "execution": {
     "iopub.execute_input": "2021-10-11T11:22:26.01296Z",
     "iopub.status.busy": "2021-10-11T11:22:26.012606Z",
     "iopub.status.idle": "2021-10-11T11:22:26.491054Z",
     "shell.execute_reply": "2021-10-11T11:22:26.490304Z",
     "shell.execute_reply.started": "2021-10-11T11:22:26.012924Z"
    }
   },
   "outputs": [],
   "source": [
    "# reshape X and normalize\n",
    "X = (np.reshape(features, (L_datapoints, length, 1)))/ float(L_symb)\n",
    "# one hot encode the output variable\n",
    "y = tensorflow.keras.utils.to_categorical(targets) "
   ]
  },
  {
   "cell_type": "markdown",
   "metadata": {},
   "source": [
    "**Splitting Train and Seed datasets**"
   ]
  },
  {
   "cell_type": "code",
   "execution_count": 16,
   "metadata": {
    "execution": {
     "iopub.execute_input": "2021-10-11T11:22:26.492824Z",
     "iopub.status.busy": "2021-10-11T11:22:26.492546Z",
     "iopub.status.idle": "2021-10-11T11:22:26.534046Z",
     "shell.execute_reply": "2021-10-11T11:22:26.533177Z",
     "shell.execute_reply.started": "2021-10-11T11:22:26.492789Z"
    }
   },
   "outputs": [],
   "source": [
    "#Taking out a subset of data to be used as seed\n",
    "X_train, X_seed, y_train, y_seed = train_test_split(X, y, test_size=0.2, random_state=42)"
   ]
  },
  {
   "cell_type": "markdown",
   "metadata": {},
   "source": [
    "<a id=\"5\"></a>\n",
    "# <p style=\"background-color:#97BACB;font-family:newtimeroman;color:#EBDDD0;font-size:120%;text-align:center;border-radius:40px 40px;\">MODEL BUILDING</p>\n",
    "\n",
    "I will be employing an LSTM for this project.\n",
    "\n",
    "**Following steps are involved in the model building**\n",
    "\n",
    "* Initialising the Model\n",
    "* Defining by adding layers\n",
    "* Compiling the Model\n",
    "* Training the Model\n",
    "\n",
    "**Building the Model**"
   ]
  },
  {
   "cell_type": "code",
   "execution_count": 17,
   "metadata": {
    "_kg_hide-output": true,
    "execution": {
     "iopub.execute_input": "2021-10-11T11:22:26.536044Z",
     "iopub.status.busy": "2021-10-11T11:22:26.535608Z",
     "iopub.status.idle": "2021-10-11T11:22:29.074068Z",
     "shell.execute_reply": "2021-10-11T11:22:29.073278Z",
     "shell.execute_reply.started": "2021-10-11T11:22:26.535998Z"
    }
   },
   "outputs": [],
   "source": [
    "#Initialising the Model\n",
    "model = Sequential()\n",
    "#Adding layers\n",
    "model.add(LSTM(512, input_shape=(X.shape[1], X.shape[2]), return_sequences=True))\n",
    "model.add(Dropout(0.1))\n",
    "model.add(LSTM(256))\n",
    "model.add(Dense(256))\n",
    "model.add(Dropout(0.1))\n",
    "model.add(Dense(y.shape[1], activation='softmax'))\n",
    "#Compiling the model for training  \n",
    "opt = Adamax(learning_rate=0.01)\n",
    "model.compile(loss='categorical_crossentropy', optimizer=opt)\n"
   ]
  },
  {
   "cell_type": "code",
   "execution_count": 18,
   "metadata": {
    "execution": {
     "iopub.execute_input": "2021-10-11T11:22:29.075722Z",
     "iopub.status.busy": "2021-10-11T11:22:29.075442Z",
     "iopub.status.idle": "2021-10-11T11:22:29.08651Z",
     "shell.execute_reply": "2021-10-11T11:22:29.085555Z",
     "shell.execute_reply.started": "2021-10-11T11:22:29.07569Z"
    }
   },
   "outputs": [
    {
     "name": "stdout",
     "output_type": "stream",
     "text": [
      "Model: \"sequential\"\n",
      "_________________________________________________________________\n",
      " Layer (type)                Output Shape              Param #   \n",
      "=================================================================\n",
      " lstm (LSTM)                 (None, 40, 512)           1052672   \n",
      "                                                                 \n",
      " dropout (Dropout)           (None, 40, 512)           0         \n",
      "                                                                 \n",
      " lstm_1 (LSTM)               (None, 256)               787456    \n",
      "                                                                 \n",
      " dense (Dense)               (None, 256)               65792     \n",
      "                                                                 \n",
      " dropout_1 (Dropout)         (None, 256)               0         \n",
      "                                                                 \n",
      " dense_1 (Dense)             (None, 254)               65278     \n",
      "                                                                 \n",
      "=================================================================\n",
      "Total params: 1,971,198\n",
      "Trainable params: 1,971,198\n",
      "Non-trainable params: 0\n",
      "_________________________________________________________________\n"
     ]
    }
   ],
   "source": [
    "#Model's Summary               \n",
    "model.summary()"
   ]
  },
  {
   "cell_type": "code",
   "execution_count": 19,
   "metadata": {
    "_kg_hide-output": true,
    "execution": {
     "iopub.execute_input": "2021-10-11T11:22:29.088315Z",
     "iopub.status.busy": "2021-10-11T11:22:29.088068Z",
     "iopub.status.idle": "2021-10-11T11:39:04.559223Z",
     "shell.execute_reply": "2021-10-11T11:39:04.558518Z",
     "shell.execute_reply.started": "2021-10-11T11:22:29.088288Z"
    }
   },
   "outputs": [
    {
     "name": "stdout",
     "output_type": "stream",
     "text": [
      "Epoch 1/200\n",
      "38/38 [==============================] - 4s 20ms/step - loss: 4.8198\n",
      "Epoch 2/200\n",
      "38/38 [==============================] - 1s 19ms/step - loss: 4.5609\n",
      "Epoch 3/200\n",
      "38/38 [==============================] - 1s 19ms/step - loss: 4.5529\n",
      "Epoch 4/200\n",
      "38/38 [==============================] - 1s 19ms/step - loss: 4.5442\n",
      "Epoch 5/200\n",
      "38/38 [==============================] - 1s 19ms/step - loss: 4.5440\n",
      "Epoch 6/200\n",
      "38/38 [==============================] - 1s 20ms/step - loss: 4.5431\n",
      "Epoch 7/200\n",
      "38/38 [==============================] - 1s 19ms/step - loss: 4.5370\n",
      "Epoch 8/200\n",
      "38/38 [==============================] - 1s 19ms/step - loss: 4.5393\n",
      "Epoch 9/200\n",
      "38/38 [==============================] - 1s 19ms/step - loss: 4.5389\n",
      "Epoch 10/200\n",
      "38/38 [==============================] - 1s 20ms/step - loss: 4.5347\n",
      "Epoch 11/200\n",
      "38/38 [==============================] - 1s 19ms/step - loss: 4.5340\n",
      "Epoch 12/200\n",
      "38/38 [==============================] - 1s 19ms/step - loss: 4.5355\n",
      "Epoch 13/200\n",
      "38/38 [==============================] - 1s 20ms/step - loss: 4.5337\n",
      "Epoch 14/200\n",
      "38/38 [==============================] - 1s 19ms/step - loss: 4.5357\n",
      "Epoch 15/200\n",
      "38/38 [==============================] - 1s 19ms/step - loss: 4.5323\n",
      "Epoch 16/200\n",
      "38/38 [==============================] - 1s 19ms/step - loss: 4.5355\n",
      "Epoch 17/200\n",
      "38/38 [==============================] - 1s 19ms/step - loss: 4.5372\n",
      "Epoch 18/200\n",
      "38/38 [==============================] - 1s 20ms/step - loss: 4.5333\n",
      "Epoch 19/200\n",
      "38/38 [==============================] - 1s 20ms/step - loss: 4.5311\n",
      "Epoch 20/200\n",
      "38/38 [==============================] - 1s 19ms/step - loss: 4.5303\n",
      "Epoch 21/200\n",
      "38/38 [==============================] - 1s 19ms/step - loss: 4.5289\n",
      "Epoch 22/200\n",
      "38/38 [==============================] - 1s 19ms/step - loss: 4.5300\n",
      "Epoch 23/200\n",
      "38/38 [==============================] - 1s 19ms/step - loss: 4.5306\n",
      "Epoch 24/200\n",
      "38/38 [==============================] - 1s 20ms/step - loss: 4.5304\n",
      "Epoch 25/200\n",
      "38/38 [==============================] - 1s 20ms/step - loss: 4.5278\n",
      "Epoch 26/200\n",
      "38/38 [==============================] - 1s 20ms/step - loss: 4.5287\n",
      "Epoch 27/200\n",
      "38/38 [==============================] - 1s 19ms/step - loss: 4.5309\n",
      "Epoch 28/200\n",
      "38/38 [==============================] - 1s 19ms/step - loss: 4.5293\n",
      "Epoch 29/200\n",
      "38/38 [==============================] - 1s 19ms/step - loss: 4.5284\n",
      "Epoch 30/200\n",
      "38/38 [==============================] - 1s 19ms/step - loss: 4.5299\n",
      "Epoch 31/200\n",
      "38/38 [==============================] - 1s 19ms/step - loss: 4.5279\n",
      "Epoch 32/200\n",
      "38/38 [==============================] - 1s 19ms/step - loss: 4.5293\n",
      "Epoch 33/200\n",
      "38/38 [==============================] - 1s 19ms/step - loss: 4.5284\n",
      "Epoch 34/200\n",
      "38/38 [==============================] - 1s 19ms/step - loss: 4.5271\n",
      "Epoch 35/200\n",
      "38/38 [==============================] - 1s 20ms/step - loss: 4.5252\n",
      "Epoch 36/200\n",
      "38/38 [==============================] - 1s 19ms/step - loss: 4.5278\n",
      "Epoch 37/200\n",
      "38/38 [==============================] - 1s 20ms/step - loss: 4.5281\n",
      "Epoch 38/200\n",
      "38/38 [==============================] - 1s 19ms/step - loss: 4.5270\n",
      "Epoch 39/200\n",
      "38/38 [==============================] - 1s 19ms/step - loss: 4.5265\n",
      "Epoch 40/200\n",
      "38/38 [==============================] - 1s 20ms/step - loss: 4.5269\n",
      "Epoch 41/200\n",
      "38/38 [==============================] - 1s 19ms/step - loss: 4.5259\n",
      "Epoch 42/200\n",
      "38/38 [==============================] - 1s 19ms/step - loss: 4.5281\n",
      "Epoch 43/200\n",
      "38/38 [==============================] - 1s 19ms/step - loss: 4.5263\n",
      "Epoch 44/200\n",
      "38/38 [==============================] - 1s 19ms/step - loss: 4.5248\n",
      "Epoch 45/200\n",
      "38/38 [==============================] - 1s 19ms/step - loss: 4.5247\n",
      "Epoch 46/200\n",
      "38/38 [==============================] - 1s 19ms/step - loss: 4.5269\n",
      "Epoch 47/200\n",
      "38/38 [==============================] - 1s 19ms/step - loss: 4.5258\n",
      "Epoch 48/200\n",
      "38/38 [==============================] - 1s 19ms/step - loss: 4.5274\n",
      "Epoch 49/200\n",
      "38/38 [==============================] - 1s 19ms/step - loss: 4.5256\n",
      "Epoch 50/200\n",
      "38/38 [==============================] - 1s 19ms/step - loss: 4.5245\n",
      "Epoch 51/200\n",
      "38/38 [==============================] - 1s 19ms/step - loss: 4.5270\n",
      "Epoch 52/200\n",
      "38/38 [==============================] - 1s 19ms/step - loss: 4.5263\n",
      "Epoch 53/200\n",
      "38/38 [==============================] - 1s 19ms/step - loss: 4.5256\n",
      "Epoch 54/200\n",
      "38/38 [==============================] - 1s 19ms/step - loss: 4.5273\n",
      "Epoch 55/200\n",
      "38/38 [==============================] - 1s 19ms/step - loss: 4.5229\n",
      "Epoch 56/200\n",
      "38/38 [==============================] - 1s 19ms/step - loss: 4.5251\n",
      "Epoch 57/200\n",
      "38/38 [==============================] - 1s 19ms/step - loss: 4.5236\n",
      "Epoch 58/200\n",
      "38/38 [==============================] - 1s 19ms/step - loss: 4.5269\n",
      "Epoch 59/200\n",
      "38/38 [==============================] - 1s 19ms/step - loss: 4.5255\n",
      "Epoch 60/200\n",
      "38/38 [==============================] - 1s 19ms/step - loss: 4.5228\n",
      "Epoch 61/200\n",
      "38/38 [==============================] - 1s 19ms/step - loss: 4.5248\n",
      "Epoch 62/200\n",
      "38/38 [==============================] - 1s 19ms/step - loss: 4.5229\n",
      "Epoch 63/200\n",
      "38/38 [==============================] - 1s 19ms/step - loss: 4.5230\n",
      "Epoch 64/200\n",
      "38/38 [==============================] - 1s 19ms/step - loss: 4.5236\n",
      "Epoch 65/200\n",
      "38/38 [==============================] - 1s 20ms/step - loss: 4.5234\n",
      "Epoch 66/200\n",
      "38/38 [==============================] - 1s 19ms/step - loss: 4.5221\n",
      "Epoch 67/200\n",
      "38/38 [==============================] - 1s 20ms/step - loss: 4.5224\n",
      "Epoch 68/200\n",
      "38/38 [==============================] - 1s 19ms/step - loss: 4.5256\n",
      "Epoch 69/200\n",
      "38/38 [==============================] - 1s 19ms/step - loss: 4.5240\n",
      "Epoch 70/200\n",
      "38/38 [==============================] - 1s 19ms/step - loss: 4.5213\n",
      "Epoch 71/200\n",
      "38/38 [==============================] - 1s 19ms/step - loss: 4.5218\n",
      "Epoch 72/200\n",
      "38/38 [==============================] - 1s 19ms/step - loss: 4.5225\n",
      "Epoch 73/200\n",
      "38/38 [==============================] - 1s 19ms/step - loss: 4.5238\n",
      "Epoch 74/200\n",
      "38/38 [==============================] - 1s 19ms/step - loss: 4.5244\n",
      "Epoch 75/200\n",
      "38/38 [==============================] - 1s 19ms/step - loss: 4.5215\n",
      "Epoch 76/200\n",
      "38/38 [==============================] - 1s 19ms/step - loss: 4.5234\n",
      "Epoch 77/200\n",
      "38/38 [==============================] - 1s 19ms/step - loss: 4.5230\n",
      "Epoch 78/200\n",
      "38/38 [==============================] - 1s 19ms/step - loss: 4.5222\n",
      "Epoch 79/200\n",
      "38/38 [==============================] - 1s 19ms/step - loss: 4.5226\n",
      "Epoch 80/200\n",
      "38/38 [==============================] - 1s 20ms/step - loss: 4.5226\n",
      "Epoch 81/200\n",
      "38/38 [==============================] - 1s 19ms/step - loss: 4.5219\n",
      "Epoch 82/200\n",
      "38/38 [==============================] - 1s 20ms/step - loss: 4.5223\n",
      "Epoch 83/200\n",
      "38/38 [==============================] - 1s 19ms/step - loss: 4.5243\n",
      "Epoch 84/200\n",
      "38/38 [==============================] - 1s 19ms/step - loss: 4.5225\n",
      "Epoch 85/200\n",
      "38/38 [==============================] - 1s 19ms/step - loss: 4.5255\n",
      "Epoch 86/200\n",
      "38/38 [==============================] - 1s 19ms/step - loss: 4.5221\n",
      "Epoch 87/200\n",
      "38/38 [==============================] - 1s 19ms/step - loss: 4.5217\n",
      "Epoch 88/200\n",
      "38/38 [==============================] - 1s 20ms/step - loss: 4.5222\n",
      "Epoch 89/200\n",
      "38/38 [==============================] - 1s 19ms/step - loss: 4.5217\n",
      "Epoch 90/200\n",
      "38/38 [==============================] - 1s 19ms/step - loss: 4.5237\n",
      "Epoch 91/200\n",
      "38/38 [==============================] - 1s 19ms/step - loss: 4.5218\n",
      "Epoch 92/200\n",
      "38/38 [==============================] - 1s 19ms/step - loss: 4.5227\n",
      "Epoch 93/200\n",
      "38/38 [==============================] - 1s 19ms/step - loss: 4.5232\n",
      "Epoch 94/200\n",
      "38/38 [==============================] - 1s 19ms/step - loss: 4.5224\n",
      "Epoch 95/200\n",
      "38/38 [==============================] - 1s 19ms/step - loss: 4.5226\n",
      "Epoch 96/200\n",
      "38/38 [==============================] - 1s 19ms/step - loss: 4.5238\n",
      "Epoch 97/200\n",
      "38/38 [==============================] - 1s 19ms/step - loss: 4.5211\n",
      "Epoch 98/200\n",
      "38/38 [==============================] - 1s 19ms/step - loss: 4.5204\n",
      "Epoch 99/200\n",
      "38/38 [==============================] - 1s 19ms/step - loss: 4.5217\n",
      "Epoch 100/200\n",
      "38/38 [==============================] - 1s 19ms/step - loss: 4.5212\n",
      "Epoch 101/200\n"
     ]
    },
    {
     "name": "stdout",
     "output_type": "stream",
     "text": [
      "38/38 [==============================] - 1s 19ms/step - loss: 4.5205\n",
      "Epoch 102/200\n",
      "38/38 [==============================] - 1s 19ms/step - loss: 4.5222\n",
      "Epoch 103/200\n",
      "38/38 [==============================] - 1s 19ms/step - loss: 4.5224\n",
      "Epoch 104/200\n",
      "38/38 [==============================] - 1s 19ms/step - loss: 4.5219\n",
      "Epoch 105/200\n",
      "38/38 [==============================] - 1s 19ms/step - loss: 4.5224\n",
      "Epoch 106/200\n",
      "38/38 [==============================] - 1s 19ms/step - loss: 4.5231\n",
      "Epoch 107/200\n",
      "38/38 [==============================] - 1s 19ms/step - loss: 4.5224\n",
      "Epoch 108/200\n",
      "38/38 [==============================] - 1s 19ms/step - loss: 4.5205\n",
      "Epoch 109/200\n",
      "38/38 [==============================] - 1s 19ms/step - loss: 4.5218\n",
      "Epoch 110/200\n",
      "38/38 [==============================] - 1s 19ms/step - loss: 4.5207\n",
      "Epoch 111/200\n",
      "38/38 [==============================] - 1s 19ms/step - loss: 4.5219\n",
      "Epoch 112/200\n",
      "38/38 [==============================] - 1s 19ms/step - loss: 4.5213\n",
      "Epoch 113/200\n",
      "38/38 [==============================] - 1s 19ms/step - loss: 4.5221\n",
      "Epoch 114/200\n",
      "38/38 [==============================] - 1s 19ms/step - loss: 4.5208\n",
      "Epoch 115/200\n",
      "38/38 [==============================] - 1s 20ms/step - loss: 4.5200\n",
      "Epoch 116/200\n",
      "38/38 [==============================] - 1s 19ms/step - loss: 4.5206\n",
      "Epoch 117/200\n",
      "38/38 [==============================] - 1s 19ms/step - loss: 4.5201\n",
      "Epoch 118/200\n",
      "38/38 [==============================] - 1s 19ms/step - loss: 4.5211\n",
      "Epoch 119/200\n",
      "38/38 [==============================] - 1s 19ms/step - loss: 4.5235\n",
      "Epoch 120/200\n",
      "38/38 [==============================] - 1s 19ms/step - loss: 4.5195\n",
      "Epoch 121/200\n",
      "38/38 [==============================] - 1s 19ms/step - loss: 4.5217\n",
      "Epoch 122/200\n",
      "38/38 [==============================] - 1s 19ms/step - loss: 4.5197\n",
      "Epoch 123/200\n",
      "38/38 [==============================] - 1s 20ms/step - loss: 4.5222\n",
      "Epoch 124/200\n",
      "38/38 [==============================] - 1s 19ms/step - loss: 4.5208\n",
      "Epoch 125/200\n",
      "38/38 [==============================] - 1s 19ms/step - loss: 4.5197\n",
      "Epoch 126/200\n",
      "38/38 [==============================] - 1s 19ms/step - loss: 4.5214\n",
      "Epoch 127/200\n",
      "38/38 [==============================] - 1s 19ms/step - loss: 4.5194\n",
      "Epoch 128/200\n",
      "38/38 [==============================] - 1s 19ms/step - loss: 4.5206\n",
      "Epoch 129/200\n",
      "38/38 [==============================] - 1s 19ms/step - loss: 4.5209\n",
      "Epoch 130/200\n",
      "38/38 [==============================] - 1s 19ms/step - loss: 4.5195\n",
      "Epoch 131/200\n",
      "38/38 [==============================] - 1s 19ms/step - loss: 4.5208\n",
      "Epoch 132/200\n",
      "38/38 [==============================] - 1s 19ms/step - loss: 4.5220\n",
      "Epoch 133/200\n",
      "38/38 [==============================] - 1s 19ms/step - loss: 4.5228\n",
      "Epoch 134/200\n",
      "38/38 [==============================] - 1s 19ms/step - loss: 4.5202\n",
      "Epoch 135/200\n",
      "38/38 [==============================] - 1s 19ms/step - loss: 4.5199\n",
      "Epoch 136/200\n",
      "38/38 [==============================] - 1s 19ms/step - loss: 4.5213\n",
      "Epoch 137/200\n",
      "38/38 [==============================] - 1s 19ms/step - loss: 4.5209\n",
      "Epoch 138/200\n",
      "38/38 [==============================] - 1s 19ms/step - loss: 4.5203\n",
      "Epoch 139/200\n",
      "38/38 [==============================] - 1s 20ms/step - loss: 4.5212\n",
      "Epoch 140/200\n",
      "38/38 [==============================] - 1s 19ms/step - loss: 4.5200\n",
      "Epoch 141/200\n",
      "38/38 [==============================] - 1s 19ms/step - loss: 4.5210\n",
      "Epoch 142/200\n",
      "38/38 [==============================] - 1s 19ms/step - loss: 4.5210\n",
      "Epoch 143/200\n",
      "38/38 [==============================] - 1s 19ms/step - loss: 4.5208\n",
      "Epoch 144/200\n",
      "38/38 [==============================] - 1s 19ms/step - loss: 4.5197\n",
      "Epoch 145/200\n",
      "38/38 [==============================] - 1s 19ms/step - loss: 4.5241\n",
      "Epoch 146/200\n",
      "38/38 [==============================] - 1s 19ms/step - loss: 4.5201\n",
      "Epoch 147/200\n",
      "38/38 [==============================] - 1s 19ms/step - loss: 4.5201\n",
      "Epoch 148/200\n",
      "38/38 [==============================] - 1s 19ms/step - loss: 4.5198\n",
      "Epoch 149/200\n",
      "38/38 [==============================] - 1s 20ms/step - loss: 4.5208\n",
      "Epoch 150/200\n",
      "38/38 [==============================] - 1s 20ms/step - loss: 4.5177\n",
      "Epoch 151/200\n",
      "38/38 [==============================] - 1s 20ms/step - loss: 4.5202\n",
      "Epoch 152/200\n",
      "38/38 [==============================] - 1s 20ms/step - loss: 4.5200\n",
      "Epoch 153/200\n",
      "38/38 [==============================] - 1s 19ms/step - loss: 4.5252\n",
      "Epoch 154/200\n",
      "38/38 [==============================] - 1s 19ms/step - loss: 4.5200\n",
      "Epoch 155/200\n",
      "38/38 [==============================] - 1s 19ms/step - loss: 4.5198\n",
      "Epoch 156/200\n",
      "38/38 [==============================] - 1s 19ms/step - loss: 4.5211\n",
      "Epoch 157/200\n",
      "38/38 [==============================] - 1s 19ms/step - loss: 4.5205\n",
      "Epoch 158/200\n",
      "38/38 [==============================] - 1s 19ms/step - loss: 4.5196\n",
      "Epoch 159/200\n",
      "38/38 [==============================] - 1s 20ms/step - loss: 4.5204\n",
      "Epoch 160/200\n",
      "38/38 [==============================] - 1s 20ms/step - loss: 4.5194\n",
      "Epoch 161/200\n",
      "38/38 [==============================] - 1s 19ms/step - loss: 4.5225\n",
      "Epoch 162/200\n",
      "38/38 [==============================] - 1s 19ms/step - loss: 4.5199\n",
      "Epoch 163/200\n",
      "38/38 [==============================] - 1s 19ms/step - loss: 4.5195\n",
      "Epoch 164/200\n",
      "38/38 [==============================] - 1s 19ms/step - loss: 4.5211\n",
      "Epoch 165/200\n",
      "38/38 [==============================] - 1s 19ms/step - loss: 4.5190\n",
      "Epoch 166/200\n",
      "38/38 [==============================] - 1s 19ms/step - loss: 4.5203\n",
      "Epoch 167/200\n",
      "38/38 [==============================] - 1s 19ms/step - loss: 4.5189\n",
      "Epoch 168/200\n",
      "38/38 [==============================] - 1s 19ms/step - loss: 4.5197\n",
      "Epoch 169/200\n",
      "38/38 [==============================] - 1s 19ms/step - loss: 4.5186\n",
      "Epoch 170/200\n",
      "38/38 [==============================] - 1s 19ms/step - loss: 4.5193\n",
      "Epoch 171/200\n",
      "38/38 [==============================] - 1s 19ms/step - loss: 4.5195\n",
      "Epoch 172/200\n",
      "38/38 [==============================] - 1s 19ms/step - loss: 4.5191\n",
      "Epoch 173/200\n",
      "38/38 [==============================] - 1s 19ms/step - loss: 4.5192\n",
      "Epoch 174/200\n",
      "38/38 [==============================] - 1s 19ms/step - loss: 4.5208\n",
      "Epoch 175/200\n",
      "38/38 [==============================] - 1s 19ms/step - loss: 4.5192\n",
      "Epoch 176/200\n",
      "38/38 [==============================] - 1s 19ms/step - loss: 4.5202\n",
      "Epoch 177/200\n",
      "38/38 [==============================] - 1s 19ms/step - loss: 4.5194\n",
      "Epoch 178/200\n",
      "38/38 [==============================] - 1s 20ms/step - loss: 4.5204\n",
      "Epoch 179/200\n",
      "38/38 [==============================] - 1s 19ms/step - loss: 4.5189\n",
      "Epoch 180/200\n",
      "38/38 [==============================] - 1s 19ms/step - loss: 4.5189\n",
      "Epoch 181/200\n",
      "38/38 [==============================] - 1s 19ms/step - loss: 4.5220\n",
      "Epoch 182/200\n",
      "38/38 [==============================] - 1s 19ms/step - loss: 4.5210\n",
      "Epoch 183/200\n",
      "38/38 [==============================] - 1s 19ms/step - loss: 4.5185\n",
      "Epoch 184/200\n",
      "38/38 [==============================] - 1s 19ms/step - loss: 4.5186\n",
      "Epoch 185/200\n",
      "38/38 [==============================] - 1s 19ms/step - loss: 4.5188\n",
      "Epoch 186/200\n",
      "38/38 [==============================] - 1s 19ms/step - loss: 4.5189\n",
      "Epoch 187/200\n",
      "38/38 [==============================] - 1s 19ms/step - loss: 4.5197\n",
      "Epoch 188/200\n",
      "38/38 [==============================] - 1s 19ms/step - loss: 4.5193\n",
      "Epoch 189/200\n",
      "38/38 [==============================] - 1s 19ms/step - loss: 4.5187\n",
      "Epoch 190/200\n",
      "38/38 [==============================] - 1s 19ms/step - loss: 4.5197\n",
      "Epoch 191/200\n",
      "38/38 [==============================] - 1s 19ms/step - loss: 4.5201\n",
      "Epoch 192/200\n",
      "38/38 [==============================] - 1s 19ms/step - loss: 4.5188\n",
      "Epoch 193/200\n",
      "38/38 [==============================] - 1s 19ms/step - loss: 4.5189\n",
      "Epoch 194/200\n",
      "38/38 [==============================] - 1s 19ms/step - loss: 4.5186\n",
      "Epoch 195/200\n",
      "38/38 [==============================] - 1s 19ms/step - loss: 4.5188\n",
      "Epoch 196/200\n",
      "38/38 [==============================] - 1s 19ms/step - loss: 4.5206\n",
      "Epoch 197/200\n",
      "38/38 [==============================] - 1s 19ms/step - loss: 4.5179\n",
      "Epoch 198/200\n",
      "38/38 [==============================] - 1s 19ms/step - loss: 4.5211\n",
      "Epoch 199/200\n"
     ]
    },
    {
     "name": "stdout",
     "output_type": "stream",
     "text": [
      "38/38 [==============================] - 1s 19ms/step - loss: 4.5196\n",
      "Epoch 200/200\n",
      "38/38 [==============================] - 1s 19ms/step - loss: 4.5183\n"
     ]
    }
   ],
   "source": [
    "#Training the Model\n",
    "history = model.fit(X_train, y_train, batch_size=256, epochs=200)"
   ]
  },
  {
   "cell_type": "markdown",
   "metadata": {},
   "source": [
    "<a id=\"6\"></a>\n",
    "# <p style=\"background-color:#97BACB;font-family:newtimeroman;color:#EBDDD0;font-size:120%;text-align:center;border-radius:40px 40px;\">EVALUATING MODELS</p>\n",
    "\n",
    "Now that I have my model trained on the MIDI files of piano music, let us see how it performs. \n",
    "\n",
    "**To evaluate my model, I shall be having a look at:**\n",
    "* The performance of the model via Learning Curves\n",
    "* The melody created\n",
    "\n",
    "**Plotting the learning curve for the loss function**"
   ]
  },
  {
   "cell_type": "code",
   "execution_count": 20,
   "metadata": {
    "execution": {
     "iopub.execute_input": "2021-10-11T11:39:04.560925Z",
     "iopub.status.busy": "2021-10-11T11:39:04.560441Z",
     "iopub.status.idle": "2021-10-11T11:39:04.933991Z",
     "shell.execute_reply": "2021-10-11T11:39:04.933094Z",
     "shell.execute_reply.started": "2021-10-11T11:39:04.560889Z"
    }
   },
   "outputs": [
    {
     "data": {
      "text/plain": [
       "[Text(0.5, 0, 'Epochs')]"
      ]
     },
     "execution_count": 20,
     "metadata": {},
     "output_type": "execute_result"
    },
    {
     "data": {
      "image/png": "[encoded data removed]",
      "text/plain": [
       "<Figure size 1080x288 with 1 Axes>"
      ]
     },
     "metadata": {
      "image/png": {
       "height": 290,
       "width": 894
      }
     },
     "output_type": "display_data"
    }
   ],
   "source": [
    "#Plotting the learnings \n",
    "history_df = pd.DataFrame(history.history)\n",
    "fig = plt.figure(figsize=(15,4), facecolor=\"#97BACB\")\n",
    "fig.suptitle(\"Learning Plot of Model for Loss\")\n",
    "pl=sns.lineplot(data=history_df[\"loss\"],color=\"#444160\")\n",
    "pl.set(ylabel =\"Training Loss\")\n",
    "pl.set(xlabel =\"Epochs\")"
   ]
  },
  {
   "cell_type": "markdown",
   "metadata": {},
   "source": [
    "**Generating the Melody**\n",
    "\n",
    "A function to obtain the generated music"
   ]
  },
  {
   "cell_type": "code",
   "execution_count": 21,
   "metadata": {
    "execution": {
     "iopub.execute_input": "2021-10-11T11:39:04.93586Z",
     "iopub.status.busy": "2021-10-11T11:39:04.935517Z",
     "iopub.status.idle": "2021-10-11T11:39:09.963958Z",
     "shell.execute_reply": "2021-10-11T11:39:09.962264Z",
     "shell.execute_reply.started": "2021-10-11T11:39:04.935822Z"
    }
   },
   "outputs": [
    {
     "data": {
      "image/png": "[encoded data removed]",
      "text/plain": [
       "<IPython.core.display.Image object>"
      ]
     },
     "metadata": {},
     "output_type": "display_data"
    }
   ],
   "source": [
    "def Malody_Generator(Note_Count):\n",
    "    seed = X_seed[np.random.randint(0,len(X_seed)-1)]\n",
    "    Music = \"\"\n",
    "    Notes_Generated=[]\n",
    "    for i in range(Note_Count):\n",
    "        seed = seed.reshape(1,length,1)\n",
    "        prediction = model.predict(seed, verbose=0)[0]\n",
    "        prediction = np.log(prediction) / 1.0 #diversity\n",
    "        exp_preds = np.exp(prediction)\n",
    "        prediction = exp_preds / np.sum(exp_preds)\n",
    "        index = np.argmax(prediction)\n",
    "        index_N = index/ float(L_symb)   \n",
    "        Notes_Generated.append(index)\n",
    "        Music = [reverse_mapping[char] for char in Notes_Generated]\n",
    "        seed = np.insert(seed[0],len(seed[0]),index_N)\n",
    "        seed = seed[1:]\n",
    "    #Now, we have music in form or a list of chords and notes and we want to be a midi file.\n",
    "    Melody = chords_n_notes(Music)\n",
    "    Melody_midi = stream.Stream(Melody)   \n",
    "    return Music,Melody_midi\n",
    "\n",
    "\n",
    "#getting the Notes and Melody created by the model\n",
    "Music_notes, Melody = Malody_Generator(100)\n",
    "show(Melody)"
   ]
  },
  {
   "cell_type": "markdown",
   "metadata": {},
   "source": [
    "This sure looks like music! To check if it sounds like music we have to listen to the MIDI file. Playing midi is crumblesome. I have saved and converted a few generated melodies to \".wav\" format outside of this notebook. So let us have a listen. \n",
    "\n",
    "**Melody Generated Sample 1**"
   ]
  },
  {
   "cell_type": "code",
   "execution_count": 22,
   "metadata": {
    "execution": {
     "iopub.execute_input": "2021-10-11T11:39:09.966108Z",
     "iopub.status.busy": "2021-10-11T11:39:09.965793Z",
     "iopub.status.idle": "2021-10-11T11:39:10.658233Z",
     "shell.execute_reply": "2021-10-11T11:39:10.657254Z",
     "shell.execute_reply.started": "2021-10-11T11:39:09.966065Z"
    }
   },
   "outputs": [
    {
     "data": {
      "text/plain": [
       "'Melody_Generated.mid'"
      ]
     },
     "execution_count": 22,
     "metadata": {},
     "output_type": "execute_result"
    }
   ],
   "source": [
    "#To save the generated melody\n",
    "Melody.write('midi','Melody_Generated.mid')\n",
    "#to play audio or corpus\n",
    "# IPython.display.Audio(\"../input/music-generated-lstm/Melody_Generated 2.wav\")"
   ]
  },
  {
   "cell_type": "markdown",
   "metadata": {},
   "source": [
    "**Melody Generated Sample 2**"
   ]
  },
  {
   "cell_type": "code",
   "execution_count": 23,
   "metadata": {
    "execution": {
     "iopub.execute_input": "2021-10-11T11:39:10.659716Z",
     "iopub.status.busy": "2021-10-11T11:39:10.659441Z",
     "iopub.status.idle": "2021-10-11T11:39:11.306194Z",
     "shell.execute_reply": "2021-10-11T11:39:11.305415Z",
     "shell.execute_reply.started": "2021-10-11T11:39:10.659678Z"
    }
   },
   "outputs": [],
   "source": [
    "#to play audio or corpus\n",
    "# IPython.display.Audio(\"../input/music-generated-lstm/Melody_Generated_1.wav\")"
   ]
  },
  {
   "cell_type": "markdown",
   "metadata": {},
   "source": [
    "<a id=\"7\"></a>\n",
    "# <p style=\"background-color:#97BACB;font-family:newtimeroman;color:#EBDDD0;font-size:120%;text-align:center;border-radius:40px 40px;\">CONCLUSION</p>\n",
    "<p style=\"font-family:newtimeroman;font-size:120%;color:#97BACB\">On inspecting the generated melody, I am quite satisfied. Unlike the lyrics project, The music doesn't have to hold true to the grammatical syntax. On the question, is it a good musical composition; is it artsy? Did our LSTM create a masterpiece? I don't know! I am not a connoisseur of music. I used a basic RNN and it worked alright.</p> \n",
    "\n",
    "<img src=\"https://github.com/KarnikaKapoor/Files/blob/main/music2.gif?raw=true\">     \n",
    "     \n",
    "     \n",
    "<p style=\"font-family:newtimeroman;font-size:120%;color:#97BACB\">So I decided to let the model have the fame it deserved. I am releasing the album! It is out on my blog. Don't forget to get your copy!</p>\n",
    "\n",
    "**Album** [Down The Uncanny Valley: Album Release](https://karnikakapoor.blogspot.com/2021/10/down-uncanny-valley.html)\n",
    "\n",
    "**Some Useful Resources:**\n",
    "\n",
    "[The Unreasonable Effectiveness of Recurrent Neural Networks](http://karpathy.github.io/2015/05/21/rnn-effectiveness/)\n",
    "\n",
    "[MuseNet](https://openai.com/blog/musenet/) \n",
    "\n",
    "[Lyrics Generator](https://www.kaggle.com/karnikakapoor/lyrics-generator-rnn)\n",
    "\n",
    "\n",
    "**<span style=\"color:#DBACC1;\"> If you liked this Notebook, please do upvote.</span>**\n",
    "\n",
    "**<span style=\"color:#DBACC1;\"> If you have any questions, feel free to comment!</span>**\n",
    "\n",
    "**<span style=\"color:#DBACC1;\"> Best Wishes!</span>**\n",
    "\n",
    "<a id=\"8\"></a>\n",
    "# <p style=\"background-color:#97BACB;font-family:newtimeroman;color:#EBDDD0;font-size:120%;text-align:center;border-radius:40px 40px;\">END</p>"
   ]
  }
 ],
 "metadata": {
  "kernelspec": {
   "display_name": "Python 3",
   "language": "python",
   "name": "python3"
  },
  "language_info": {
   "codemirror_mode": {
    "name": "ipython",
    "version": 3
   },
   "file_extension": ".py",
   "mimetype": "text/x-python",
   "name": "python",
   "nbconvert_exporter": "python",
   "pygments_lexer": "ipython3",
   "version": "3.8.10"
  }
 },
 "nbformat": 4,
 "nbformat_minor": 4
}
