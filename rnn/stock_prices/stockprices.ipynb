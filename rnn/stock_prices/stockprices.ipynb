{
 "cells": [
  {
   "cell_type": "code",
   "execution_count": 1,
   "metadata": {
    "id": "lEaWxPMEdc80"
   },
   "outputs": [
    {
     "name": "stdout",
     "output_type": "stream",
     "text": [
      "Collecting pandas\n",
      "  Downloading pandas-1.4.2-cp38-cp38-manylinux_2_17_x86_64.manylinux2014_x86_64.whl (11.7 MB)\n",
      "\u001b[K     |████████████████████████████████| 11.7 MB 625 kB/s eta 0:00:01\n",
      "\u001b[?25hRequirement already satisfied: python-dateutil>=2.8.1 in /usr/local/lib/python3.8/dist-packages (from pandas) (2.8.2)\n",
      "Collecting pytz>=2020.1\n",
      "  Downloading pytz-2022.1-py2.py3-none-any.whl (503 kB)\n",
      "\u001b[K     |████████████████████████████████| 503 kB 1.0 MB/s eta 0:00:01\n",
      "\u001b[?25hRequirement already satisfied: numpy>=1.18.5; platform_machine != \"aarch64\" and platform_machine != \"arm64\" and python_version < \"3.10\" in /usr/local/lib/python3.8/dist-packages (from pandas) (1.22.4)\n",
      "Requirement already satisfied: six>=1.5 in /usr/lib/python3/dist-packages (from python-dateutil>=2.8.1->pandas) (1.14.0)\n",
      "Installing collected packages: pytz, pandas\n",
      "Successfully installed pandas-1.4.2 pytz-2022.1\n",
      "\u001b[33mWARNING: You are using pip version 20.2.4; however, version 22.1.2 is available.\n",
      "You should consider upgrading via the '/usr/bin/python3 -m pip install --upgrade pip' command.\u001b[0m\n",
      "Collecting sklearn\n",
      "  Downloading sklearn-0.0.tar.gz (1.1 kB)\n",
      "Collecting scikit-learn\n",
      "  Downloading scikit_learn-1.1.1-cp38-cp38-manylinux_2_17_x86_64.manylinux2014_x86_64.whl (31.2 MB)\n",
      "\u001b[K     |████████████████████████████████| 31.2 MB 620 kB/s eta 0:00:01    |████████▊                       | 8.5 MB 2.0 MB/s eta 0:00:12\n",
      "\u001b[?25hRequirement already satisfied: numpy>=1.17.3 in /usr/local/lib/python3.8/dist-packages (from scikit-learn->sklearn) (1.22.4)\n",
      "Collecting threadpoolctl>=2.0.0\n",
      "  Downloading threadpoolctl-3.1.0-py3-none-any.whl (14 kB)\n",
      "Collecting scipy>=1.3.2\n",
      "  Downloading scipy-1.8.1-cp38-cp38-manylinux_2_17_x86_64.manylinux2014_x86_64.whl (41.6 MB)\n",
      "\u001b[K     |████████████████████████████████| 41.6 MB 1.1 MB/s eta 0:00:01\n",
      "\u001b[?25hCollecting joblib>=1.0.0\n",
      "  Downloading joblib-1.1.0-py2.py3-none-any.whl (306 kB)\n",
      "\u001b[K     |████████████████████████████████| 306 kB 1.3 MB/s eta 0:00:01\n",
      "\u001b[?25hBuilding wheels for collected packages: sklearn\n",
      "  Building wheel for sklearn (setup.py) ... \u001b[?25ldone\n",
      "\u001b[?25h  Created wheel for sklearn: filename=sklearn-0.0-py2.py3-none-any.whl size=1302 sha256=aa887bb24b560a0e37b35501e6f563e9ec3ccc9a9c3ccee749a82683391499c8\n",
      "  Stored in directory: /root/.cache/pip/wheels/22/0b/40/fd3f795caaa1fb4c6cb738bc1f56100be1e57da95849bfc897\n",
      "Successfully built sklearn\n",
      "Installing collected packages: threadpoolctl, scipy, joblib, scikit-learn, sklearn\n",
      "Successfully installed joblib-1.1.0 scikit-learn-1.1.1 scipy-1.8.1 sklearn-0.0 threadpoolctl-3.1.0\n",
      "\u001b[33mWARNING: You are using pip version 20.2.4; however, version 22.1.2 is available.\n",
      "You should consider upgrading via the '/usr/bin/python3 -m pip install --upgrade pip' command.\u001b[0m\n"
     ]
    }
   ],
   "source": [
    "# Part 1 - Data Preprocessing\n",
    "\n",
    "!pip install pandas\n",
    "!pip install sklearn \n",
    "\n",
    "# Importing the libraries\n",
    "import numpy as np\n",
    "import matplotlib.pyplot as plt\n",
    "import pandas as pd\n",
    "import tensorflow as tf\n",
    "from tensorflow import keras\n",
    "from keras import layers"
   ]
  },
  {
   "cell_type": "code",
   "execution_count": 2,
   "metadata": {
    "id": "HEc7FZyYeEVn"
   },
   "outputs": [],
   "source": [
    "# Importing the training set\n",
    "dataset_train = pd.read_csv('MSFT_train.csv')\n",
    "training_set = dataset_train.iloc[:, 1:2].values"
   ]
  },
  {
   "cell_type": "code",
   "execution_count": 3,
   "metadata": {
    "colab": {
     "base_uri": "https://localhost:8080/"
    },
    "id": "qn_tCKsVefYJ",
    "outputId": "2274535b-e686-41f8-b974-c4fd3cb68dfb"
   },
   "outputs": [
    {
     "data": {
      "text/plain": [
       "(1223, 1)"
      ]
     },
     "execution_count": 3,
     "metadata": {},
     "output_type": "execute_result"
    }
   ],
   "source": [
    "training_set.shape"
   ]
  },
  {
   "cell_type": "code",
   "execution_count": 4,
   "metadata": {
    "id": "VnRCddbTeWr8"
   },
   "outputs": [],
   "source": [
    "# Feature Scaling\n",
    "from sklearn.preprocessing import MinMaxScaler\n",
    "sc = MinMaxScaler(feature_range = (0, 1))\n",
    "training_set_scaled = sc.fit_transform(training_set)"
   ]
  },
  {
   "cell_type": "code",
   "execution_count": 5,
   "metadata": {
    "id": "sGCotdofedLh"
   },
   "outputs": [],
   "source": [
    "# Creating a data structure with 60 timesteps and 1 output\n",
    "X_train = []\n",
    "y_train = []\n",
    "for i in range(60, 1223):\n",
    "    X_train.append(training_set_scaled[i-60:i, 0])\n",
    "    y_train.append(training_set_scaled[i, 0])\n",
    "X_train, y_train = np.array(X_train), np.array(y_train)"
   ]
  },
  {
   "cell_type": "code",
   "execution_count": 6,
   "metadata": {
    "id": "TLK6dJx5e1hv"
   },
   "outputs": [],
   "source": [
    "# Reshaping\n",
    "X_train = np.reshape(X_train, (X_train.shape[0], X_train.shape[1], 1))"
   ]
  },
  {
   "cell_type": "code",
   "execution_count": 7,
   "metadata": {
    "colab": {
     "base_uri": "https://localhost:8080/"
    },
    "id": "ePkI6uOvfwTi",
    "outputId": "2c6e3b0c-4ae8-4326-da95-bd81ff59e962"
   },
   "outputs": [
    {
     "name": "stdout",
     "output_type": "stream",
     "text": [
      "Model: \"sequential\"\n",
      "_________________________________________________________________\n",
      " Layer (type)                Output Shape              Param #   \n",
      "=================================================================\n",
      " lstm (LSTM)                 (None, 60, 50)            10400     \n",
      "                                                                 \n",
      " dropout (Dropout)           (None, 60, 50)            0         \n",
      "                                                                 \n",
      " lstm_1 (LSTM)               (None, 60, 50)            20200     \n",
      "                                                                 \n",
      " dropout_1 (Dropout)         (None, 60, 50)            0         \n",
      "                                                                 \n",
      " lstm_2 (LSTM)               (None, 60, 50)            20200     \n",
      "                                                                 \n",
      " dropout_2 (Dropout)         (None, 60, 50)            0         \n",
      "                                                                 \n",
      " lstm_3 (LSTM)               (None, 50)                20200     \n",
      "                                                                 \n",
      " dropout_3 (Dropout)         (None, 50)                0         \n",
      "                                                                 \n",
      " dense (Dense)               (None, 1)                 51        \n",
      "                                                                 \n",
      "=================================================================\n",
      "Total params: 71,051\n",
      "Trainable params: 71,051\n",
      "Non-trainable params: 0\n",
      "_________________________________________________________________\n"
     ]
    }
   ],
   "source": [
    "# Initialising the RNN\n",
    "model = keras.Sequential()\n",
    "\n",
    "# Adding the first LSTM layer and some Dropout regularisation\n",
    "model.add(layers.LSTM(units = 50, return_sequences = True, input_shape = (X_train.shape[1], 1)))\n",
    "model.add(layers.Dropout(0.2))\n",
    "\n",
    "# Adding a second LSTM layer and some Dropout regularisation\n",
    "model.add(layers.LSTM(units = 50, return_sequences = True))\n",
    "model.add(layers.Dropout(0.2))\n",
    "\n",
    "# Adding a third LSTM layer and some Dropout regularisation\n",
    "model.add(layers.LSTM(units = 50, return_sequences = True))\n",
    "model.add(layers.Dropout(0.2))\n",
    "\n",
    "# Adding a fourth LSTM layer and some Dropout regularisation\n",
    "model.add(layers.LSTM(units = 50))\n",
    "model.add(layers.Dropout(0.2))\n",
    "\n",
    "# Adding the output layer\n",
    "model.add(layers.Dense(units = 1))\n",
    "\n",
    "# display summary\n",
    "model.summary()"
   ]
  },
  {
   "cell_type": "code",
   "execution_count": 8,
   "metadata": {
    "colab": {
     "base_uri": "https://localhost:8080/"
    },
    "id": "dsKYONb-jAia",
    "outputId": "ac1b7bb0-cb65-4522-f93e-5dc47de9c413"
   },
   "outputs": [
    {
     "name": "stdout",
     "output_type": "stream",
     "text": [
      "Epoch 1/80\n",
      "37/37 [==============================] - 7s 90ms/step - loss: 0.0293\n",
      "Epoch 2/80\n",
      "37/37 [==============================] - 3s 88ms/step - loss: 0.0044\n",
      "Epoch 3/80\n",
      "37/37 [==============================] - 3s 88ms/step - loss: 0.0037\n",
      "Epoch 4/80\n",
      "37/37 [==============================] - 3s 87ms/step - loss: 0.0035\n",
      "Epoch 5/80\n",
      "37/37 [==============================] - 3s 88ms/step - loss: 0.0040\n",
      "Epoch 6/80\n",
      "37/37 [==============================] - 3s 88ms/step - loss: 0.0032\n",
      "Epoch 7/80\n",
      "37/37 [==============================] - 3s 89ms/step - loss: 0.0029\n",
      "Epoch 8/80\n",
      "37/37 [==============================] - 3s 89ms/step - loss: 0.0028\n",
      "Epoch 9/80\n",
      "37/37 [==============================] - 3s 89ms/step - loss: 0.0034\n",
      "Epoch 10/80\n",
      "37/37 [==============================] - 3s 89ms/step - loss: 0.0030\n",
      "Epoch 11/80\n",
      "37/37 [==============================] - 3s 88ms/step - loss: 0.0028\n",
      "Epoch 12/80\n",
      "37/37 [==============================] - 3s 89ms/step - loss: 0.0028\n",
      "Epoch 13/80\n",
      "37/37 [==============================] - 3s 89ms/step - loss: 0.0028\n",
      "Epoch 14/80\n",
      "37/37 [==============================] - 3s 90ms/step - loss: 0.0024\n",
      "Epoch 15/80\n",
      "37/37 [==============================] - 3s 90ms/step - loss: 0.0026\n",
      "Epoch 16/80\n",
      "37/37 [==============================] - 3s 89ms/step - loss: 0.0024\n",
      "Epoch 17/80\n",
      "37/37 [==============================] - 3s 90ms/step - loss: 0.0025\n",
      "Epoch 18/80\n",
      "37/37 [==============================] - 3s 90ms/step - loss: 0.0023\n",
      "Epoch 19/80\n",
      "37/37 [==============================] - 3s 90ms/step - loss: 0.0023\n",
      "Epoch 20/80\n",
      "37/37 [==============================] - 3s 90ms/step - loss: 0.0023\n",
      "Epoch 21/80\n",
      "37/37 [==============================] - 3s 90ms/step - loss: 0.0025\n",
      "Epoch 22/80\n",
      "37/37 [==============================] - 3s 90ms/step - loss: 0.0023\n",
      "Epoch 23/80\n",
      "37/37 [==============================] - 3s 91ms/step - loss: 0.0023\n",
      "Epoch 24/80\n",
      "37/37 [==============================] - 3s 91ms/step - loss: 0.0029\n",
      "Epoch 25/80\n",
      "37/37 [==============================] - 3s 90ms/step - loss: 0.0020\n",
      "Epoch 26/80\n",
      "37/37 [==============================] - 3s 91ms/step - loss: 0.0023\n",
      "Epoch 27/80\n",
      "37/37 [==============================] - 3s 90ms/step - loss: 0.0021\n",
      "Epoch 28/80\n",
      "37/37 [==============================] - 3s 90ms/step - loss: 0.0021\n",
      "Epoch 29/80\n",
      "37/37 [==============================] - 3s 90ms/step - loss: 0.0021\n",
      "Epoch 30/80\n",
      "37/37 [==============================] - 3s 90ms/step - loss: 0.0021\n",
      "Epoch 31/80\n",
      "37/37 [==============================] - 3s 91ms/step - loss: 0.0022\n",
      "Epoch 32/80\n",
      "37/37 [==============================] - 3s 90ms/step - loss: 0.0017\n",
      "Epoch 33/80\n",
      "37/37 [==============================] - 3s 89ms/step - loss: 0.0017\n",
      "Epoch 34/80\n",
      "37/37 [==============================] - 3s 90ms/step - loss: 0.0021\n",
      "Epoch 35/80\n",
      "37/37 [==============================] - 3s 91ms/step - loss: 0.0018\n",
      "Epoch 36/80\n",
      "37/37 [==============================] - 3s 90ms/step - loss: 0.0019\n",
      "Epoch 37/80\n",
      "37/37 [==============================] - 3s 89ms/step - loss: 0.0020\n",
      "Epoch 38/80\n",
      "37/37 [==============================] - 3s 90ms/step - loss: 0.0021\n",
      "Epoch 39/80\n",
      "37/37 [==============================] - 3s 89ms/step - loss: 0.0018\n",
      "Epoch 40/80\n",
      "37/37 [==============================] - 3s 90ms/step - loss: 0.0016\n",
      "Epoch 41/80\n",
      "37/37 [==============================] - 3s 90ms/step - loss: 0.0018\n",
      "Epoch 42/80\n",
      "37/37 [==============================] - 3s 92ms/step - loss: 0.0020\n",
      "Epoch 43/80\n",
      "37/37 [==============================] - 3s 88ms/step - loss: 0.0015\n",
      "Epoch 44/80\n",
      "37/37 [==============================] - 3s 90ms/step - loss: 0.0016\n",
      "Epoch 45/80\n",
      "37/37 [==============================] - 3s 90ms/step - loss: 0.0018\n",
      "Epoch 46/80\n",
      "37/37 [==============================] - 3s 91ms/step - loss: 0.0015\n",
      "Epoch 47/80\n",
      "37/37 [==============================] - 3s 90ms/step - loss: 0.0015\n",
      "Epoch 48/80\n",
      "37/37 [==============================] - 3s 89ms/step - loss: 0.0016\n",
      "Epoch 49/80\n",
      "37/37 [==============================] - 3s 90ms/step - loss: 0.0017\n",
      "Epoch 50/80\n",
      "37/37 [==============================] - 3s 90ms/step - loss: 0.0017\n",
      "Epoch 51/80\n",
      "37/37 [==============================] - 3s 89ms/step - loss: 0.0017\n",
      "Epoch 52/80\n",
      "37/37 [==============================] - 3s 90ms/step - loss: 0.0016\n",
      "Epoch 53/80\n",
      "37/37 [==============================] - 3s 90ms/step - loss: 0.0015\n",
      "Epoch 54/80\n",
      "37/37 [==============================] - 3s 91ms/step - loss: 0.0014\n",
      "Epoch 55/80\n",
      "37/37 [==============================] - 3s 90ms/step - loss: 0.0013\n",
      "Epoch 56/80\n",
      "37/37 [==============================] - 3s 91ms/step - loss: 0.0015\n",
      "Epoch 57/80\n",
      "37/37 [==============================] - 3s 91ms/step - loss: 0.0017\n",
      "Epoch 58/80\n",
      "37/37 [==============================] - 3s 89ms/step - loss: 0.0015\n",
      "Epoch 59/80\n",
      "37/37 [==============================] - 3s 90ms/step - loss: 0.0013\n",
      "Epoch 60/80\n",
      "37/37 [==============================] - 3s 89ms/step - loss: 0.0015\n",
      "Epoch 61/80\n",
      "37/37 [==============================] - 3s 90ms/step - loss: 0.0013\n",
      "Epoch 62/80\n",
      "37/37 [==============================] - 3s 90ms/step - loss: 0.0014\n",
      "Epoch 63/80\n",
      "37/37 [==============================] - 3s 90ms/step - loss: 0.0015\n",
      "Epoch 64/80\n",
      "37/37 [==============================] - 3s 90ms/step - loss: 0.0018\n",
      "Epoch 65/80\n",
      "37/37 [==============================] - 3s 90ms/step - loss: 0.0014\n",
      "Epoch 66/80\n",
      "37/37 [==============================] - 3s 89ms/step - loss: 0.0012\n",
      "Epoch 67/80\n",
      "37/37 [==============================] - 3s 90ms/step - loss: 0.0013\n",
      "Epoch 68/80\n",
      "37/37 [==============================] - 3s 88ms/step - loss: 0.0012\n",
      "Epoch 69/80\n",
      "37/37 [==============================] - 3s 88ms/step - loss: 0.0015\n",
      "Epoch 70/80\n",
      "37/37 [==============================] - 3s 89ms/step - loss: 0.0015\n",
      "Epoch 71/80\n",
      "37/37 [==============================] - 3s 89ms/step - loss: 0.0014\n",
      "Epoch 72/80\n",
      "37/37 [==============================] - 3s 89ms/step - loss: 0.0012\n",
      "Epoch 73/80\n",
      "37/37 [==============================] - 3s 91ms/step - loss: 0.0016\n",
      "Epoch 74/80\n",
      "37/37 [==============================] - 3s 91ms/step - loss: 0.0014\n",
      "Epoch 75/80\n",
      "37/37 [==============================] - 3s 91ms/step - loss: 0.0014\n",
      "Epoch 76/80\n",
      "37/37 [==============================] - 3s 90ms/step - loss: 0.0012\n",
      "Epoch 77/80\n",
      "37/37 [==============================] - 3s 88ms/step - loss: 0.0013\n",
      "Epoch 78/80\n",
      "37/37 [==============================] - 3s 89ms/step - loss: 0.0014\n",
      "Epoch 79/80\n",
      "37/37 [==============================] - 3s 88ms/step - loss: 0.0013\n",
      "Epoch 80/80\n",
      "37/37 [==============================] - 3s 88ms/step - loss: 0.0013\n"
     ]
    },
    {
     "data": {
      "text/plain": [
       "<keras.callbacks.History at 0x7feac4326700>"
      ]
     },
     "execution_count": 8,
     "metadata": {},
     "output_type": "execute_result"
    }
   ],
   "source": [
    "# Compiling the RNN\n",
    "model.compile(optimizer = 'adam', loss = 'mean_squared_error')\n",
    "\n",
    "# Fitting the RNN to the Training set\n",
    "model.fit(X_train, y_train, epochs = 80, batch_size = 32)"
   ]
  },
  {
   "cell_type": "code",
   "execution_count": 9,
   "metadata": {
    "id": "oM792dOUlJjQ"
   },
   "outputs": [],
   "source": [
    "# Part 3 - Making the predictions and visualising the results\n",
    "\n",
    "# Getting the real stock price of 2017\n",
    "dataset_test = pd.read_csv('MSFT_test.csv')\n",
    "real_stock_price = dataset_test.iloc[:, 1:2].values"
   ]
  },
  {
   "cell_type": "code",
   "execution_count": 10,
   "metadata": {
    "colab": {
     "base_uri": "https://localhost:8080/"
    },
    "id": "ymdjPhXhlS3B",
    "outputId": "36c0ae27-592d-43e3-bef0-6413b592daaa"
   },
   "outputs": [
    {
     "data": {
      "text/plain": [
       "(36, 1)"
      ]
     },
     "execution_count": 10,
     "metadata": {},
     "output_type": "execute_result"
    }
   ],
   "source": [
    "real_stock_price.shape"
   ]
  },
  {
   "cell_type": "code",
   "execution_count": 11,
   "metadata": {
    "id": "pPiEsSXQlz19"
   },
   "outputs": [
    {
     "name": "stdout",
     "output_type": "stream",
     "text": [
      "2/2 [==============================] - 1s 21ms/step\n"
     ]
    }
   ],
   "source": [
    "# Getting the predicted stock price of last two months\n",
    "dataset_total = pd.concat((dataset_train['Open'], dataset_test['Open']), axis = 0)\n",
    "inputs = dataset_total[len(dataset_total) - len(dataset_test) - 60:].values\n",
    "inputs = inputs.reshape(-1,1)\n",
    "inputs = sc.transform(inputs)\n",
    "X_test = []\n",
    "# 96 is the 60 day interval plus the 36 days since 1st Apr\n",
    "for i in range(60, 96):\n",
    "    X_test.append(inputs[i-60:i, 0])\n",
    "X_test = np.array(X_test)\n",
    "X_test = np.reshape(X_test, (X_test.shape[0], X_test.shape[1], 1))\n",
    "predicted_stock_price = model.predict(X_test)\n",
    "predicted_stock_price = sc.inverse_transform(predicted_stock_price)"
   ]
  },
  {
   "cell_type": "code",
   "execution_count": 12,
   "metadata": {
    "colab": {
     "base_uri": "https://localhost:8080/",
     "height": 295
    },
    "id": "LSr2LNf7mjv3",
    "outputId": "4a9980e3-0484-4ec5-c29f-fcf86dcc00a7"
   },
   "outputs": [
    {
     "data": {
      "image/png": "[encoded data removed]",
      "text/plain": [
       "<Figure size 640x480 with 1 Axes>"
      ]
     },
     "metadata": {},
     "output_type": "display_data"
    }
   ],
   "source": [
    "# Visualising the results\n",
    "plt.plot(real_stock_price, color = 'red', label = 'Real Microsoft Stock Price')\n",
    "plt.plot(predicted_stock_price, color = 'blue', label = 'Predicted Microsoft Stock Price')\n",
    "plt.title('Microsoft Stock Price Prediction')\n",
    "plt.xlabel('Time')\n",
    "plt.ylabel('Microsoft Stock Price')\n",
    "plt.legend()\n",
    "plt.show()"
   ]
  },
  {
   "cell_type": "code",
   "execution_count": null,
   "metadata": {},
   "outputs": [],
   "source": []
  }
 ],
 "metadata": {
  "colab": {
   "collapsed_sections": [],
   "name": "stockprices.ipynb",
   "provenance": []
  },
  "kernelspec": {
   "display_name": "Python 3",
   "language": "python",
   "name": "python3"
  },
  "language_info": {
   "codemirror_mode": {
    "name": "ipython",
    "version": 3
   },
   "file_extension": ".py",
   "mimetype": "text/x-python",
   "name": "python",
   "nbconvert_exporter": "python",
   "pygments_lexer": "ipython3",
   "version": "3.8.10"
  }
 },
 "nbformat": 4,
 "nbformat_minor": 1
}
