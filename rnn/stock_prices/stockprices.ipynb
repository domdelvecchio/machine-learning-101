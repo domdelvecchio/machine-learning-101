{
  "nbformat": 4,
  "nbformat_minor": 0,
  "metadata": {
    "colab": {
      "name": "stockprices.ipynb",
      "provenance": [],
      "collapsed_sections": []
    },
    "kernelspec": {
      "name": "python3",
      "display_name": "Python 3"
    },
    "language_info": {
      "name": "python"
    }
  },
  "cells": [
    {
      "cell_type": "code",
      "execution_count": 14,
      "metadata": {
        "id": "lEaWxPMEdc80"
      },
      "outputs": [],
      "source": [
        "# Part 1 - Data Preprocessing\n",
        "\n",
        "# Importing the libraries\n",
        "import numpy as np\n",
        "import matplotlib.pyplot as plt\n",
        "import pandas as pd\n",
        "import tensorflow as tf\n",
        "from tensorflow import keras\n",
        "from keras import layers"
      ]
    },
    {
      "cell_type": "code",
      "source": [
        "# Importing the training set\n",
        "dataset_train = pd.read_csv('MSFT_train.csv')\n",
        "training_set = dataset_train.iloc[:, 1:2].values"
      ],
      "metadata": {
        "id": "HEc7FZyYeEVn"
      },
      "execution_count": 8,
      "outputs": []
    },
    {
      "cell_type": "code",
      "source": [
        "training_set.shape"
      ],
      "metadata": {
        "colab": {
          "base_uri": "https://localhost:8080/"
        },
        "id": "qn_tCKsVefYJ",
        "outputId": "2274535b-e686-41f8-b974-c4fd3cb68dfb"
      },
      "execution_count": 9,
      "outputs": [
        {
          "output_type": "execute_result",
          "data": {
            "text/plain": [
              "(1223, 1)"
            ]
          },
          "metadata": {},
          "execution_count": 9
        }
      ]
    },
    {
      "cell_type": "code",
      "source": [
        "# Feature Scaling\n",
        "from sklearn.preprocessing import MinMaxScaler\n",
        "sc = MinMaxScaler(feature_range = (0, 1))\n",
        "training_set_scaled = sc.fit_transform(training_set)"
      ],
      "metadata": {
        "id": "VnRCddbTeWr8"
      },
      "execution_count": 10,
      "outputs": []
    },
    {
      "cell_type": "code",
      "source": [
        "# Creating a data structure with 60 timesteps and 1 output\n",
        "X_train = []\n",
        "y_train = []\n",
        "for i in range(60, 1223):\n",
        "    X_train.append(training_set_scaled[i-60:i, 0])\n",
        "    y_train.append(training_set_scaled[i, 0])\n",
        "X_train, y_train = np.array(X_train), np.array(y_train)"
      ],
      "metadata": {
        "id": "sGCotdofedLh"
      },
      "execution_count": 11,
      "outputs": []
    },
    {
      "cell_type": "code",
      "source": [
        "# Reshaping\n",
        "X_train = np.reshape(X_train, (X_train.shape[0], X_train.shape[1], 1))"
      ],
      "metadata": {
        "id": "TLK6dJx5e1hv"
      },
      "execution_count": 12,
      "outputs": []
    },
    {
      "cell_type": "code",
      "source": [
        "# Initialising the RNN\n",
        "model = keras.Sequential()\n",
        "\n",
        "# Adding the first LSTM layer and some Dropout regularisation\n",
        "model.add(layers.LSTM(units = 50, return_sequences = True, input_shape = (X_train.shape[1], 1)))\n",
        "model.add(layers.Dropout(0.2))\n",
        "\n",
        "# Adding a second LSTM layer and some Dropout regularisation\n",
        "model.add(layers.LSTM(units = 50, return_sequences = True))\n",
        "model.add(layers.Dropout(0.2))\n",
        "\n",
        "# Adding a third LSTM layer and some Dropout regularisation\n",
        "model.add(layers.LSTM(units = 50, return_sequences = True))\n",
        "model.add(layers.Dropout(0.2))\n",
        "\n",
        "# Adding a fourth LSTM layer and some Dropout regularisation\n",
        "model.add(layers.LSTM(units = 50))\n",
        "model.add(layers.Dropout(0.2))\n",
        "\n",
        "# Adding the output layer\n",
        "model.add(layers.Dense(units = 1))\n",
        "\n",
        "# display summary\n",
        "model.summary()"
      ],
      "metadata": {
        "colab": {
          "base_uri": "https://localhost:8080/"
        },
        "id": "ePkI6uOvfwTi",
        "outputId": "2c6e3b0c-4ae8-4326-da95-bd81ff59e962"
      },
      "execution_count": 15,
      "outputs": [
        {
          "output_type": "stream",
          "name": "stdout",
          "text": [
            "Model: \"sequential\"\n",
            "_________________________________________________________________\n",
            " Layer (type)                Output Shape              Param #   \n",
            "=================================================================\n",
            " lstm (LSTM)                 (None, 60, 50)            10400     \n",
            "                                                                 \n",
            " dropout (Dropout)           (None, 60, 50)            0         \n",
            "                                                                 \n",
            " lstm_1 (LSTM)               (None, 60, 50)            20200     \n",
            "                                                                 \n",
            " dropout_1 (Dropout)         (None, 60, 50)            0         \n",
            "                                                                 \n",
            " lstm_2 (LSTM)               (None, 60, 50)            20200     \n",
            "                                                                 \n",
            " dropout_2 (Dropout)         (None, 60, 50)            0         \n",
            "                                                                 \n",
            " lstm_3 (LSTM)               (None, 50)                20200     \n",
            "                                                                 \n",
            " dropout_3 (Dropout)         (None, 50)                0         \n",
            "                                                                 \n",
            " dense (Dense)               (None, 1)                 51        \n",
            "                                                                 \n",
            "=================================================================\n",
            "Total params: 71,051\n",
            "Trainable params: 71,051\n",
            "Non-trainable params: 0\n",
            "_________________________________________________________________\n"
          ]
        }
      ]
    },
    {
      "cell_type": "code",
      "source": [
        "# Compiling the RNN\n",
        "model.compile(optimizer = 'adam', loss = 'mean_squared_error')\n",
        "\n",
        "# Fitting the RNN to the Training set\n",
        "model.fit(X_train, y_train, epochs = 80, batch_size = 32)"
      ],
      "metadata": {
        "colab": {
          "base_uri": "https://localhost:8080/"
        },
        "id": "dsKYONb-jAia",
        "outputId": "ac1b7bb0-cb65-4522-f93e-5dc47de9c413"
      },
      "execution_count": 16,
      "outputs": [
        {
          "output_type": "stream",
          "name": "stdout",
          "text": [
            "Epoch 1/100\n",
            "37/37 [==============================] - 11s 108ms/step - loss: 0.0251\n",
            "Epoch 2/100\n",
            "37/37 [==============================] - 4s 108ms/step - loss: 0.0040\n",
            "Epoch 3/100\n",
            "37/37 [==============================] - 4s 109ms/step - loss: 0.0037\n",
            "Epoch 4/100\n",
            "37/37 [==============================] - 4s 108ms/step - loss: 0.0034\n",
            "Epoch 5/100\n",
            "37/37 [==============================] - 4s 108ms/step - loss: 0.0031\n",
            "Epoch 6/100\n",
            "37/37 [==============================] - 4s 108ms/step - loss: 0.0034\n",
            "Epoch 7/100\n",
            "37/37 [==============================] - 4s 108ms/step - loss: 0.0039\n",
            "Epoch 8/100\n",
            "37/37 [==============================] - 4s 109ms/step - loss: 0.0028\n",
            "Epoch 9/100\n",
            "37/37 [==============================] - 4s 108ms/step - loss: 0.0026\n",
            "Epoch 10/100\n",
            "37/37 [==============================] - 4s 107ms/step - loss: 0.0028\n",
            "Epoch 11/100\n",
            "37/37 [==============================] - 4s 108ms/step - loss: 0.0031\n",
            "Epoch 12/100\n",
            "37/37 [==============================] - 4s 106ms/step - loss: 0.0028\n",
            "Epoch 13/100\n",
            "37/37 [==============================] - 4s 109ms/step - loss: 0.0025\n",
            "Epoch 14/100\n",
            "37/37 [==============================] - 4s 107ms/step - loss: 0.0029\n",
            "Epoch 15/100\n",
            "37/37 [==============================] - 4s 109ms/step - loss: 0.0026\n",
            "Epoch 16/100\n",
            "37/37 [==============================] - 4s 110ms/step - loss: 0.0027\n",
            "Epoch 17/100\n",
            "37/37 [==============================] - 4s 107ms/step - loss: 0.0024\n",
            "Epoch 18/100\n",
            "37/37 [==============================] - 4s 108ms/step - loss: 0.0026\n",
            "Epoch 19/100\n",
            "37/37 [==============================] - 4s 108ms/step - loss: 0.0023\n",
            "Epoch 20/100\n",
            "37/37 [==============================] - 5s 122ms/step - loss: 0.0024\n",
            "Epoch 21/100\n",
            "37/37 [==============================] - 5s 123ms/step - loss: 0.0025\n",
            "Epoch 22/100\n",
            "37/37 [==============================] - 5s 125ms/step - loss: 0.0025\n",
            "Epoch 23/100\n",
            "37/37 [==============================] - 5s 124ms/step - loss: 0.0024\n",
            "Epoch 24/100\n",
            "37/37 [==============================] - 5s 123ms/step - loss: 0.0023\n",
            "Epoch 25/100\n",
            "37/37 [==============================] - 4s 122ms/step - loss: 0.0021\n",
            "Epoch 26/100\n",
            "37/37 [==============================] - 5s 124ms/step - loss: 0.0022\n",
            "Epoch 27/100\n",
            "37/37 [==============================] - 5s 122ms/step - loss: 0.0018\n",
            "Epoch 28/100\n",
            "37/37 [==============================] - 4s 121ms/step - loss: 0.0023\n",
            "Epoch 29/100\n",
            "37/37 [==============================] - 4s 119ms/step - loss: 0.0017\n",
            "Epoch 30/100\n",
            "37/37 [==============================] - 4s 120ms/step - loss: 0.0022\n",
            "Epoch 31/100\n",
            "37/37 [==============================] - 5s 122ms/step - loss: 0.0020\n",
            "Epoch 32/100\n",
            "37/37 [==============================] - 5s 124ms/step - loss: 0.0020\n",
            "Epoch 33/100\n",
            "37/37 [==============================] - 5s 125ms/step - loss: 0.0020\n",
            "Epoch 34/100\n",
            "37/37 [==============================] - 4s 120ms/step - loss: 0.0018\n",
            "Epoch 35/100\n",
            "37/37 [==============================] - 4s 121ms/step - loss: 0.0018\n",
            "Epoch 36/100\n",
            "37/37 [==============================] - 5s 124ms/step - loss: 0.0018\n",
            "Epoch 37/100\n",
            "37/37 [==============================] - 4s 121ms/step - loss: 0.0022\n",
            "Epoch 38/100\n",
            "37/37 [==============================] - 5s 122ms/step - loss: 0.0019\n",
            "Epoch 39/100\n",
            "37/37 [==============================] - 5s 121ms/step - loss: 0.0017\n",
            "Epoch 40/100\n",
            "37/37 [==============================] - 5s 122ms/step - loss: 0.0018\n",
            "Epoch 41/100\n",
            "37/37 [==============================] - 5s 122ms/step - loss: 0.0016\n",
            "Epoch 42/100\n",
            "37/37 [==============================] - 4s 119ms/step - loss: 0.0019\n",
            "Epoch 43/100\n",
            "37/37 [==============================] - 4s 121ms/step - loss: 0.0017\n",
            "Epoch 44/100\n",
            "37/37 [==============================] - 5s 122ms/step - loss: 0.0016\n",
            "Epoch 45/100\n",
            "37/37 [==============================] - 5s 123ms/step - loss: 0.0015\n",
            "Epoch 46/100\n",
            "37/37 [==============================] - 4s 118ms/step - loss: 0.0021\n",
            "Epoch 47/100\n",
            "37/37 [==============================] - 4s 121ms/step - loss: 0.0015\n",
            "Epoch 48/100\n",
            "37/37 [==============================] - 4s 119ms/step - loss: 0.0017\n",
            "Epoch 49/100\n",
            "37/37 [==============================] - 5s 122ms/step - loss: 0.0018\n",
            "Epoch 50/100\n",
            "37/37 [==============================] - 4s 119ms/step - loss: 0.0015\n",
            "Epoch 51/100\n",
            "37/37 [==============================] - 5s 121ms/step - loss: 0.0016\n",
            "Epoch 52/100\n",
            "37/37 [==============================] - 4s 120ms/step - loss: 0.0016\n",
            "Epoch 53/100\n",
            "37/37 [==============================] - 5s 123ms/step - loss: 0.0015\n",
            "Epoch 54/100\n",
            "37/37 [==============================] - 4s 120ms/step - loss: 0.0014\n",
            "Epoch 55/100\n",
            "37/37 [==============================] - 5s 124ms/step - loss: 0.0016\n",
            "Epoch 56/100\n",
            "37/37 [==============================] - 5s 126ms/step - loss: 0.0014\n",
            "Epoch 57/100\n",
            "37/37 [==============================] - 5s 126ms/step - loss: 0.0014\n",
            "Epoch 58/100\n",
            "37/37 [==============================] - 5s 128ms/step - loss: 0.0015\n",
            "Epoch 59/100\n",
            "37/37 [==============================] - 5s 122ms/step - loss: 0.0016\n",
            "Epoch 60/100\n",
            "37/37 [==============================] - 5s 126ms/step - loss: 0.0015\n",
            "Epoch 61/100\n",
            "37/37 [==============================] - 5s 126ms/step - loss: 0.0014\n",
            "Epoch 62/100\n",
            "37/37 [==============================] - 5s 122ms/step - loss: 0.0016\n",
            "Epoch 63/100\n",
            "37/37 [==============================] - 4s 121ms/step - loss: 0.0013\n",
            "Epoch 64/100\n",
            "37/37 [==============================] - 4s 121ms/step - loss: 0.0014\n",
            "Epoch 65/100\n",
            "37/37 [==============================] - 4s 120ms/step - loss: 0.0014\n",
            "Epoch 66/100\n",
            "37/37 [==============================] - 4s 120ms/step - loss: 0.0015\n",
            "Epoch 67/100\n",
            "37/37 [==============================] - 4s 121ms/step - loss: 0.0015\n",
            "Epoch 68/100\n",
            "37/37 [==============================] - 5s 123ms/step - loss: 0.0012\n",
            "Epoch 69/100\n",
            "37/37 [==============================] - 5s 123ms/step - loss: 0.0014\n",
            "Epoch 70/100\n",
            "37/37 [==============================] - 4s 119ms/step - loss: 0.0013\n",
            "Epoch 71/100\n",
            "37/37 [==============================] - 5s 122ms/step - loss: 0.0013\n",
            "Epoch 72/100\n",
            "37/37 [==============================] - 5s 122ms/step - loss: 0.0015\n",
            "Epoch 73/100\n",
            "37/37 [==============================] - 5s 125ms/step - loss: 0.0015\n",
            "Epoch 74/100\n",
            "37/37 [==============================] - 5s 126ms/step - loss: 0.0013\n",
            "Epoch 75/100\n",
            "37/37 [==============================] - 5s 123ms/step - loss: 0.0013\n",
            "Epoch 76/100\n",
            "37/37 [==============================] - 5s 125ms/step - loss: 0.0012\n",
            "Epoch 77/100\n",
            "37/37 [==============================] - 5s 123ms/step - loss: 0.0014\n",
            "Epoch 78/100\n",
            "37/37 [==============================] - 5s 123ms/step - loss: 0.0014\n",
            "Epoch 79/100\n",
            "37/37 [==============================] - 5s 127ms/step - loss: 0.0013\n",
            "Epoch 80/100\n",
            "37/37 [==============================] - 5s 126ms/step - loss: 0.0014\n",
            "Epoch 81/100\n",
            "37/37 [==============================] - 5s 122ms/step - loss: 0.0013\n",
            "Epoch 82/100\n",
            "37/37 [==============================] - 5s 122ms/step - loss: 0.0014\n",
            "Epoch 83/100\n",
            "37/37 [==============================] - 4s 118ms/step - loss: 0.0014\n",
            "Epoch 84/100\n",
            "37/37 [==============================] - 5s 122ms/step - loss: 0.0013\n",
            "Epoch 85/100\n",
            "37/37 [==============================] - 4s 121ms/step - loss: 0.0012\n",
            "Epoch 86/100\n",
            "37/37 [==============================] - 5s 123ms/step - loss: 0.0011\n",
            "Epoch 87/100\n",
            "37/37 [==============================] - 5s 122ms/step - loss: 0.0012\n",
            "Epoch 88/100\n",
            "37/37 [==============================] - 4s 119ms/step - loss: 0.0012\n",
            "Epoch 89/100\n",
            "37/37 [==============================] - 5s 125ms/step - loss: 0.0016\n",
            "Epoch 90/100\n",
            "37/37 [==============================] - 5s 123ms/step - loss: 0.0012\n",
            "Epoch 91/100\n",
            "37/37 [==============================] - 4s 120ms/step - loss: 0.0014\n",
            "Epoch 92/100\n",
            "37/37 [==============================] - 5s 123ms/step - loss: 0.0012\n",
            "Epoch 93/100\n",
            "37/37 [==============================] - 4s 121ms/step - loss: 0.0012\n",
            "Epoch 94/100\n",
            "37/37 [==============================] - 4s 120ms/step - loss: 0.0013\n",
            "Epoch 95/100\n",
            "37/37 [==============================] - 4s 121ms/step - loss: 0.0012\n",
            "Epoch 96/100\n",
            "37/37 [==============================] - 5s 122ms/step - loss: 0.0011\n",
            "Epoch 97/100\n",
            "37/37 [==============================] - 4s 121ms/step - loss: 0.0011\n",
            "Epoch 98/100\n",
            "37/37 [==============================] - 5s 122ms/step - loss: 0.0010\n",
            "Epoch 99/100\n",
            "37/37 [==============================] - 5s 123ms/step - loss: 0.0013\n",
            "Epoch 100/100\n",
            "37/37 [==============================] - 4s 121ms/step - loss: 0.0016\n"
          ]
        },
        {
          "output_type": "execute_result",
          "data": {
            "text/plain": [
              "<keras.callbacks.History at 0x7f5baa6c4a90>"
            ]
          },
          "metadata": {},
          "execution_count": 16
        }
      ]
    },
    {
      "cell_type": "code",
      "source": [
        "# Part 3 - Making the predictions and visualising the results\n",
        "\n",
        "# Getting the real stock price of 2017\n",
        "dataset_test = pd.read_csv('MSFT_test.csv')\n",
        "real_stock_price = dataset_test.iloc[:, 1:2].values"
      ],
      "metadata": {
        "id": "oM792dOUlJjQ"
      },
      "execution_count": 18,
      "outputs": []
    },
    {
      "cell_type": "code",
      "source": [
        "real_stock_price.shape"
      ],
      "metadata": {
        "colab": {
          "base_uri": "https://localhost:8080/"
        },
        "id": "ymdjPhXhlS3B",
        "outputId": "36c0ae27-592d-43e3-bef0-6413b592daaa"
      },
      "execution_count": 20,
      "outputs": [
        {
          "output_type": "execute_result",
          "data": {
            "text/plain": [
              "(36, 1)"
            ]
          },
          "metadata": {},
          "execution_count": 20
        }
      ]
    },
    {
      "cell_type": "code",
      "source": [
        "# Getting the predicted stock price of last two months\n",
        "dataset_total = pd.concat((dataset_train['Open'], dataset_test['Open']), axis = 0)\n",
        "inputs = dataset_total[len(dataset_total) - len(dataset_test) - 60:].values\n",
        "inputs = inputs.reshape(-1,1)\n",
        "inputs = sc.transform(inputs)\n",
        "X_test = []\n",
        "# 96 is the 60 day interval plus the 36 days since 1st Apr\n",
        "for i in range(60, 96):\n",
        "    X_test.append(inputs[i-60:i, 0])\n",
        "X_test = np.array(X_test)\n",
        "X_test = np.reshape(X_test, (X_test.shape[0], X_test.shape[1], 1))\n",
        "predicted_stock_price = model.predict(X_test)\n",
        "predicted_stock_price = sc.inverse_transform(predicted_stock_price)"
      ],
      "metadata": {
        "id": "pPiEsSXQlz19"
      },
      "execution_count": 21,
      "outputs": []
    },
    {
      "cell_type": "code",
      "source": [
        "# Visualising the results\n",
        "plt.plot(real_stock_price, color = 'red', label = 'Real Microsoft Stock Price')\n",
        "plt.plot(predicted_stock_price, color = 'blue', label = 'Predicted Microsoft Stock Price')\n",
        "plt.title('Microsoft Stock Price Prediction')\n",
        "plt.xlabel('Time')\n",
        "plt.ylabel('Microsoft Stock Price')\n",
        "plt.legend()\n",
        "plt.show()"
      ],
      "metadata": {
        "colab": {
          "base_uri": "https://localhost:8080/",
          "height": 295
        },
        "id": "LSr2LNf7mjv3",
        "outputId": "4a9980e3-0484-4ec5-c29f-fcf86dcc00a7"
      },
      "execution_count": 22,
      "outputs": [
        {
          "output_type": "display_data",
          "data": {
            "text/plain": [
              "<Figure size 432x288 with 1 Axes>"
            ],
            "image/png": "[encoded data removed]"
          },
          "metadata": {
            "needs_background": "light"
          }
        }
      ]
    }
  ]
}